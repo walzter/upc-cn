{
 "cells": [
  {
   "cell_type": "markdown",
   "metadata": {},
   "source": [
    "## Testing iGraph for Adjacency Matrix, Degree Matrix & Graph Construction"
   ]
  },
  {
   "cell_type": "markdown",
   "metadata": {},
   "source": [
    "### Imports"
   ]
  },
  {
   "cell_type": "code",
   "execution_count": 2,
   "metadata": {},
   "outputs": [],
   "source": [
    "#import networkx as nx ## is good but somehow doesn't return proper adjacency matrix for the graph ????\n",
    "import igraph as ig\n",
    "import numpy as np \n",
    "## this fun baby \n",
    "from numba import jit "
   ]
  },
  {
   "cell_type": "markdown",
   "metadata": {},
   "source": [
    "### 1. Parameter Definition \n",
    "\n",
    "- Initial number of nodes \n",
    "- Create a random array: \n",
    "    - Size = (NODES x NODES)\n",
    "    - Values = 0 to 1, showing an edge or not\n",
    "- Remove the diagonal (this means no self-loops. for example Node 3 to Node 3)\n",
    "- Convert np.array to np.matrix "
   ]
  },
  {
   "cell_type": "code",
   "execution_count": 3,
   "metadata": {},
   "outputs": [
    {
     "name": "stdout",
     "output_type": "stream",
     "text": [
      "[[0 0 1 0]\n",
      " [0 0 1 0]\n",
      " [1 1 0 1]\n",
      " [1 0 1 0]]\n"
     ]
    }
   ],
   "source": [
    "## 1. --- Initial number of nodes \n",
    "INITIAL_NODES = 4\n",
    "## 2. --- To make things simpler, make it into a tuple\n",
    "INITIAL_SIZE = (INITIAL_NODES, INITIAL_NODES)\n",
    "## 3. ---  random adjacency arrays of shape: nodes x nodes\n",
    "rand_adjarr = np.random.randint(low = 0,  \n",
    "                              high = 2,\n",
    "                              size = INITIAL_SIZE)\n",
    "## 4. --- Remove the diagonal -- NO SELF-LOOPS\n",
    "np.fill_diagonal(rand_adjarr, 0)\n",
    "\n",
    "## 5. --- Convert to numpy matrix --> so we are working with matrix-matrix, and not array-matrix. Just in case! \n",
    "rand_adjm = np.matrix(rand_adjarr)\n",
    "\n",
    "## 6. --- Take a look at the matrix \n",
    "print(rand_adjm)"
   ]
  },
  {
   "cell_type": "markdown",
   "metadata": {},
   "source": [
    "### 2. Methods to create graph from adjacency matrix \n",
    "\n",
    "- Method 1: \n",
    "    - Adjacency Matrix to bool (True/False) and then to a list\n",
    "\n",
    "- Method 2: \n",
    "    - Pass Adjacency Matrix directly to iGraph \n"
   ]
  },
  {
   "cell_type": "code",
   "execution_count": 4,
   "metadata": {},
   "outputs": [
    {
     "name": "stdout",
     "output_type": "stream",
     "text": [
      "Method1 -> [3, 2, 6, 3]\n",
      "Method2 -> [3, 2, 6, 3]\n",
      "Are they the same?? -> True\n"
     ]
    }
   ],
   "source": [
    "## 1. --- Method 1: Adjm -> bool -> list \n",
    "g1 = ig.Graph.Adjacency(rand_adjm.astype(bool).tolist())\n",
    "## 2. --- Get the degreees \n",
    "g1_d = g1.degree()\n",
    "## 3. --- Method 2: Adjm -> graph \n",
    "g2 = ig.Graph.Adjacency(rand_adjm)\n",
    "## 4. --- Get the degrees \n",
    "g2_d = g2.degree()\n",
    "## 5. --- Look at them \n",
    "print(f\"Method1 -> {g1_d}\")\n",
    "print(f\"Method2 -> {g2_d}\")\n",
    "print(f\"Are they the same?? -> {g1_d == g2_d}\")"
   ]
  },
  {
   "cell_type": "markdown",
   "metadata": {},
   "source": [
    "### 3. Get the Degree Matrix from the Adjacency Matrix \n",
    "\n",
    "- Method 1: Colsum + Rowsum  "
   ]
  },
  {
   "cell_type": "code",
   "execution_count": 5,
   "metadata": {},
   "outputs": [
    {
     "name": "stdout",
     "output_type": "stream",
     "text": [
      "Degrees from numpy operations -> [3, 2, 6, 3]\n",
      "Degrees from Method 1         -> [3, 2, 6, 3]\n",
      "Degrees from Method 2         -> [3, 2, 6, 3]\n",
      "Method 1. Are they the same?  -> True\n",
      "Method 2. Are they the same?  -> True\n"
     ]
    }
   ],
   "source": [
    "## 1. --- Rowsum, the sum of all the rows in a matrix, along axis 0.\n",
    "rowsum = np.sum(rand_adjm, axis=0)\n",
    "## 2. --- Colsum, sum of all the columns in a matrix along axis 1. \n",
    "colsum = np.sum(rand_adjm, axis=1).T # Transpose because it is a column vector and need a row vector\n",
    "## 3. --- Sum them.  & convert to list so we dont have the matrix([x,x,x,x]) \n",
    "degrees = (rowsum + colsum).tolist()[0] ## get the 0th element because it is nested [[1,2,3,4]] --> [1,2,3,4]\n",
    "# 4. --- Look at it \n",
    "print(f\"Degrees from numpy operations -> {degrees}\")\n",
    "print(f\"Degrees from Method 1         -> {g1_d}\")\n",
    "print(f\"Degrees from Method 2         -> {g2_d}\")\n",
    "## 4. --- Compare it to the two methods before \n",
    "print(f\"Method 1. Are they the same?  -> {g1_d == degrees}\")\n",
    "print(f\"Method 2. Are they the same?  -> {g2_d == degrees}\")\n"
   ]
  },
  {
   "cell_type": "code",
   "execution_count": 6,
   "metadata": {},
   "outputs": [
    {
     "data": {
      "text/plain": [
       "matrix([[ True,  True,  True,  True],\n",
       "        [ True,  True,  True,  True],\n",
       "        [ True,  True,  True,  True],\n",
       "        [ True,  True,  True,  True]])"
      ]
     },
     "execution_count": 6,
     "metadata": {},
     "output_type": "execute_result"
    }
   ],
   "source": [
    "## 1. -- Final Check! \n",
    "## THEY ARE THE SAME IM SO HAPPY OMG! :D :D :D\n",
    "rand_adjm == np.matrix(g1.get_adjacency().data) ## Our Adjacency Matrix Vs. Adjacency Matrix from iGraph!! "
   ]
  },
  {
   "cell_type": "markdown",
   "metadata": {},
   "source": [
    "### 4. Make a function and improve performance"
   ]
  },
  {
   "cell_type": "code",
   "execution_count": 7,
   "metadata": {},
   "outputs": [],
   "source": [
    "## can we jit it??!?! \n",
    "## YES WE CAN \n",
    "\"\"\"\n",
    "Elapsed (with compilation)  = 0.006689786911010742\n",
    "Elapsed (after compilation) = 0.0001480579376220703 \n",
    "4518x faster !!!!!\n",
    "Como funciona esta mierda? \n",
    "1. Le agregas el \"decorador\" @jit --> esto es un Just In Time compiler, compila el Python a C \n",
    "2. se le agrega el nopython=True, asi corre el codigo compilado en C y no el python \n",
    "3. aumentamos velocidad con Parallel=True, para multiprocessing \n",
    "4. nogil=True, Libera el Global Interpreter Lock (que limita el acceso a los coros del procesador)\n",
    "--- AHORA----\n",
    "La primera vez que corres la funcion, va  ser lenta, pq se compila \n",
    "Despues es Speedy Fucking Gonzales.\n",
    "\"\"\"\n",
    "@jit(nopython=True,parallel=True,nogil=True) ## fucking fast man!\n",
    "def get_degree_matrix(adjacency_matrix:np.matrix) -> np.matrix:\n",
    "    \"\"\"Returns degree matrix from adjacency matrix\"\"\"\n",
    "    ## create an empty matrix to return the values \n",
    "    empty_like = np.zeros_like(adjacency_matrix)\n",
    "    ## calculate the rowsum \n",
    "    rowsum = np.sum(adjacency_matrix, axis=0)\n",
    "    ## calculate the colsum & transpose \n",
    "    colsum = np.sum(adjacency_matrix, axis=1).T\n",
    "    ## sum them \n",
    "    degrees = rowsum + colsum \n",
    "    ## fill the empty matrix \n",
    "    np.fill_diagonal(empty_like, degrees)\n",
    "    return empty_like"
   ]
  },
  {
   "cell_type": "code",
   "execution_count": 17,
   "metadata": {},
   "outputs": [
    {
     "data": {
      "text/plain": [
       "array([[3, 0, 0, 0],\n",
       "       [0, 2, 0, 0],\n",
       "       [0, 0, 6, 0],\n",
       "       [0, 0, 0, 3]])"
      ]
     },
     "execution_count": 17,
     "metadata": {},
     "output_type": "execute_result"
    }
   ],
   "source": [
    "degrees = get_degree_matrix(rand_adjarr)\n",
    "degrees"
   ]
  },
  {
   "cell_type": "markdown",
   "metadata": {},
   "source": [
    "### Getting the new nodes to add\n",
    "\n",
    "0. Get all degrees\n",
    "1. Get the sum of all the degrees \n",
    "2. Calculate P(x) for each degree (degrees / ∑d)\n",
    "3. Generate a random number uniform number from (0, 1)\n",
    "4. Multiply the random number by the sum of degrees (Normalization)\n",
    "5. get the bins \n",
    "6. which node to add \n",
    "7. attach the node and repeat steps 1-6"
   ]
  },
  {
   "cell_type": "code",
   "execution_count": 10,
   "metadata": {},
   "outputs": [
    {
     "name": "stdout",
     "output_type": "stream",
     "text": [
      "[3 2 6 3]\n",
      "14\n",
      "[0.21428571 0.14285714 0.42857143 0.21428571]\n",
      "5.243561663863074 --\n",
      "[ 0  3  5 11 14]\n",
      "3\n"
     ]
    }
   ],
   "source": [
    "seed = np.random.seed(42)\n",
    "## 0. -- Get all degrees -> remember we get a matrix, so we only get the diagonal\n",
    "degrees = np.diag(get_degree_matrix(rand_adjm))\n",
    "## 1. -- Sum of all degrees\n",
    "sum_degrees = np.sum(degrees)\n",
    "## 2. -- Probabilitie for each degree\n",
    "degree_proba = degrees / sum_degrees\n",
    "## 3. -- random uniform from 0 to sum(degree)\n",
    "rand_val = np.random.uniform(0, 1) * sum_degrees\n",
    "## 4. -- Get the bins\n",
    "deg_bins = degrees.cumsum()\n",
    "## insert a 0 at the beginning \n",
    "deg_bins = np.concatenate((deg_bins[:0], [0], deg_bins[0:]))\n",
    "## 5. -- Identify which node to add it to \n",
    "add_node = np.digitize(rand_val, deg_bins)\n",
    "## 6. -- Attach node (extending the matrix)\n",
    "\n",
    "print(degrees)\n",
    "print(sum_degrees)\n",
    "print(degree_proba)\n",
    "print(rand_val,'--')\n",
    "print(deg_bins)\n",
    "print(add_node)"
   ]
  },
  {
   "cell_type": "code",
   "execution_count": 19,
   "metadata": {},
   "outputs": [
    {
     "data": {
      "text/plain": [
       "matrix([[0, 0, 1, 0],\n",
       "        [0, 0, 1, 0],\n",
       "        [1, 1, 0, 1],\n",
       "        [1, 0, 1, 0]])"
      ]
     },
     "execution_count": 19,
     "metadata": {},
     "output_type": "execute_result"
    }
   ],
   "source": [
    "rand_adjm"
   ]
  },
  {
   "cell_type": "code",
   "execution_count": 18,
   "metadata": {},
   "outputs": [
    {
     "data": {
      "text/plain": [
       "array([[0., 0., 1., 0., 0.],\n",
       "       [0., 0., 1., 0., 0.],\n",
       "       [1., 1., 0., 1., 1.],\n",
       "       [1., 0., 1., 0., 0.],\n",
       "       [0., 0., 1., 0., 0.]])"
      ]
     },
     "execution_count": 18,
     "metadata": {},
     "output_type": "execute_result"
    }
   ],
   "source": [
    "## lets say we wanted to build a graph that had 50 nodes \n",
    "FINAL_NODES = 50\n",
    "## we'd need to create an empty graph \n",
    "final_empty = np.zeros(shape=(FINAL_NODES,FINAL_NODES))\n",
    "## we put the current matrix into it \n",
    "## get the shape of the original one \n",
    "a, b = rand_adjm.shape\n",
    "final_empty[:a,:b] = rand_adjm\n",
    "#print(final_empty)\n",
    "## the second node is index 1, not 2\n",
    "## so index_node = add_node -1 \n",
    "index_node = add_node - 1 \n",
    "## locate the new node and add a connection \n",
    "## we keep the value of the original one\n",
    "target = INITIAL_NODES\n",
    "## thi is one is added\n",
    "new_to_add = target + 1\n",
    "## row x col\n",
    "final_empty[target,index_node] = 1\n",
    "final_empty[index_node, target] = 1\n",
    "## sample one \n",
    "sample = final_empty[:new_to_add,:new_to_add]\n",
    "sample"
   ]
  },
  {
   "cell_type": "code",
   "execution_count": 15,
   "metadata": {},
   "outputs": [
    {
     "data": {
      "image/svg+xml": "<?xml version=\"1.0\" encoding=\"UTF-8\"?>\n<svg xmlns=\"http://www.w3.org/2000/svg\" xmlns:xlink=\"http://www.w3.org/1999/xlink\" width=\"600pt\" height=\"600pt\" viewBox=\"0 0 600 600\" version=\"1.1\">\n<g id=\"surface14\">\n<rect x=\"0\" y=\"0\" width=\"600\" height=\"600\" style=\"fill:rgb(100%,100%,100%);fill-opacity:1;stroke:none;\"/>\n<path style=\"fill:none;stroke-width:1;stroke-linecap:butt;stroke-linejoin:miter;stroke:rgb(26.666667%,26.666667%,26.666667%);stroke-opacity:1;stroke-miterlimit:10;\" d=\"M 580 88.96875 C 401.351562 51.859375 234.601562 103.558594 183.5625 274.972656 \"/>\n<path style=\" stroke:none;fill-rule:nonzero;fill:rgb(26.666667%,26.666667%,26.666667%);fill-opacity:1;\" d=\"M 179.492188 288.644531 L 179.121094 273.648438 L 188.003906 276.296875 L 179.492188 288.644531 \"/>\n<path style=\"fill:none;stroke-width:1;stroke-linecap:butt;stroke-linejoin:miter;stroke:rgb(26.666667%,26.666667%,26.666667%);stroke-opacity:1;stroke-miterlimit:10;\" d=\"M 33.898438 580 C 156.457031 530.699219 261.640625 341.066406 198.222656 308.859375 \"/>\n<path style=\" stroke:none;fill-rule:nonzero;fill:rgb(26.666667%,26.666667%,26.666667%);fill-opacity:1;\" d=\"M 185.503906 302.398438 L 200.324219 304.726562 L 196.125 312.992188 L 185.503906 302.398438 \"/>\n<path style=\"fill:none;stroke-width:1;stroke-linecap:butt;stroke-linejoin:miter;stroke:rgb(26.666667%,26.666667%,26.666667%);stroke-opacity:1;stroke-miterlimit:10;\" d=\"M 176.722656 297.9375 C 353.25 330.441406 441.121094 224.925781 562.457031 106.140625 \"/>\n<path style=\" stroke:none;fill-rule:nonzero;fill:rgb(26.666667%,26.666667%,26.666667%);fill-opacity:1;\" d=\"M 572.652344 96.160156 L 565.703125 109.453125 L 559.214844 102.828125 L 572.652344 96.160156 \"/>\n<path style=\"fill:none;stroke-width:1;stroke-linecap:butt;stroke-linejoin:miter;stroke:rgb(26.666667%,26.666667%,26.666667%);stroke-opacity:1;stroke-miterlimit:10;\" d=\"M 176.722656 297.9375 C 67.957031 352.074219 91.539062 476.269531 45.847656 558.5 \"/>\n<path style=\" stroke:none;fill-rule:nonzero;fill:rgb(26.666667%,26.666667%,26.666667%);fill-opacity:1;\" d=\"M 38.917969 570.96875 L 41.792969 556.246094 L 49.898438 560.75 L 38.917969 570.96875 \"/>\n<path style=\"fill:none;stroke-width:1;stroke-linecap:butt;stroke-linejoin:miter;stroke:rgb(26.666667%,26.666667%,26.666667%);stroke-opacity:1;stroke-miterlimit:10;\" d=\"M 176.722656 297.9375 C 201.128906 173.066406 162.339844 38.210938 43.765625 23.039062 \"/>\n<path style=\" stroke:none;fill-rule:nonzero;fill:rgb(26.666667%,26.666667%,26.666667%);fill-opacity:1;\" d=\"M 29.613281 21.230469 L 44.351562 18.441406 L 43.175781 27.636719 L 29.613281 21.230469 \"/>\n<path style=\"fill:none;stroke-width:1;stroke-linecap:butt;stroke-linejoin:miter;stroke:rgb(26.666667%,26.666667%,26.666667%);stroke-opacity:1;stroke-miterlimit:10;\" d=\"M 20 20 L 555.917969 86.003906 \"/>\n<path style=\" stroke:none;fill-rule:nonzero;fill:rgb(26.666667%,26.666667%,26.666667%);fill-opacity:1;\" d=\"M 570.074219 87.746094 L 555.347656 90.605469 L 556.484375 81.402344 L 570.074219 87.746094 \"/>\n<path style=\"fill:none;stroke-width:1;stroke-linecap:butt;stroke-linejoin:miter;stroke:rgb(26.666667%,26.666667%,26.666667%);stroke-opacity:1;stroke-miterlimit:10;\" d=\"M 20 20 C -3.828125 144.179688 33.632812 266.460938 153.074219 292.734375 \"/>\n<path style=\" stroke:none;fill-rule:nonzero;fill:rgb(26.666667%,26.666667%,26.666667%);fill-opacity:1;\" d=\"M 167.007812 295.800781 L 152.078125 297.261719 L 154.070312 288.210938 L 167.007812 295.800781 \"/>\n<path style=\"fill-rule:nonzero;fill:rgb(100%,0%,0%);fill-opacity:1;stroke-width:1;stroke-linecap:butt;stroke-linejoin:miter;stroke:rgb(0%,0%,0%);stroke-opacity:1;stroke-miterlimit:10;\" d=\"M 590 88.96875 C 590 94.492188 585.523438 98.96875 580 98.96875 C 574.476562 98.96875 570 94.492188 570 88.96875 C 570 83.445312 574.476562 78.96875 580 78.96875 C 585.523438 78.96875 590 83.445312 590 88.96875 \"/>\n<path style=\"fill-rule:nonzero;fill:rgb(100%,0%,0%);fill-opacity:1;stroke-width:1;stroke-linecap:butt;stroke-linejoin:miter;stroke:rgb(0%,0%,0%);stroke-opacity:1;stroke-miterlimit:10;\" d=\"M 43.898438 580 C 43.898438 585.523438 39.421875 590 33.898438 590 C 28.375 590 23.898438 585.523438 23.898438 580 C 23.898438 574.476562 28.375 570 33.898438 570 C 39.421875 570 43.898438 574.476562 43.898438 580 \"/>\n<path style=\"fill-rule:nonzero;fill:rgb(100%,0%,0%);fill-opacity:1;stroke-width:1;stroke-linecap:butt;stroke-linejoin:miter;stroke:rgb(0%,0%,0%);stroke-opacity:1;stroke-miterlimit:10;\" d=\"M 186.722656 297.9375 C 186.722656 303.460938 182.246094 307.9375 176.722656 307.9375 C 171.199219 307.9375 166.722656 303.460938 166.722656 297.9375 C 166.722656 292.417969 171.199219 287.9375 176.722656 287.9375 C 182.246094 287.9375 186.722656 292.417969 186.722656 297.9375 \"/>\n<path style=\"fill-rule:nonzero;fill:rgb(100%,0%,0%);fill-opacity:1;stroke-width:1;stroke-linecap:butt;stroke-linejoin:miter;stroke:rgb(0%,0%,0%);stroke-opacity:1;stroke-miterlimit:10;\" d=\"M 30 20 C 30 25.523438 25.523438 30 20 30 C 14.476562 30 10 25.523438 10 20 C 10 14.476562 14.476562 10 20 10 C 25.523438 10 30 14.476562 30 20 \"/>\n</g>\n</svg>\n",
      "text/plain": [
       "<igraph.drawing.Plot at 0x7f80ed8909a0>"
      ]
     },
     "execution_count": 15,
     "metadata": {
      "image/svg+xml": {
       "isolated": true
      }
     },
     "output_type": "execute_result"
    }
   ],
   "source": [
    "ig.plot(g1)"
   ]
  },
  {
   "cell_type": "code",
   "execution_count": 16,
   "metadata": {},
   "outputs": [
    {
     "data": {
      "image/svg+xml": "<?xml version=\"1.0\" encoding=\"UTF-8\"?>\n<svg xmlns=\"http://www.w3.org/2000/svg\" xmlns:xlink=\"http://www.w3.org/1999/xlink\" width=\"600pt\" height=\"600pt\" viewBox=\"0 0 600 600\" version=\"1.1\">\n<g id=\"surface20\">\n<rect x=\"0\" y=\"0\" width=\"600\" height=\"600\" style=\"fill:rgb(100%,100%,100%);fill-opacity:1;stroke:none;\"/>\n<path style=\"fill:none;stroke-width:1;stroke-linecap:butt;stroke-linejoin:miter;stroke:rgb(26.666667%,26.666667%,26.666667%);stroke-opacity:1;stroke-miterlimit:10;\" d=\"M 20 191.601562 C 85.464844 309.8125 184.828125 356.949219 315.917969 324.296875 \"/>\n<path style=\" stroke:none;fill-rule:nonzero;fill:rgb(26.666667%,26.666667%,26.666667%);fill-opacity:1;\" d=\"M 329.761719 320.847656 L 317.039062 328.792969 L 314.800781 319.796875 L 329.761719 320.847656 \"/>\n<path style=\"fill:none;stroke-width:1;stroke-linecap:butt;stroke-linejoin:miter;stroke:rgb(26.666667%,26.666667%,26.666667%);stroke-opacity:1;stroke-miterlimit:10;\" d=\"M 580 580 C 573.195312 439.035156 502.019531 323.144531 363.949219 319.140625 \"/>\n<path style=\" stroke:none;fill-rule:nonzero;fill:rgb(26.666667%,26.666667%,26.666667%);fill-opacity:1;\" d=\"M 349.6875 318.730469 L 364.082031 314.507812 L 363.8125 323.777344 L 349.6875 318.730469 \"/>\n<path style=\"fill:none;stroke-width:1;stroke-linecap:butt;stroke-linejoin:miter;stroke:rgb(26.666667%,26.666667%,26.666667%);stroke-opacity:1;stroke-miterlimit:10;\" d=\"M 339.457031 318.433594 C 274.035156 200.328125 175.03125 154.308594 43.773438 185.882812 \"/>\n<path style=\" stroke:none;fill-rule:nonzero;fill:rgb(26.666667%,26.666667%,26.666667%);fill-opacity:1;\" d=\"M 29.902344 189.21875 L 42.6875 181.375 L 44.855469 190.386719 L 29.902344 189.21875 \"/>\n<path style=\"fill:none;stroke-width:1;stroke-linecap:butt;stroke-linejoin:miter;stroke:rgb(26.666667%,26.666667%,26.666667%);stroke-opacity:1;stroke-miterlimit:10;\" d=\"M 339.457031 318.433594 C 346.304688 459.539062 417.796875 576.640625 555.800781 579.5 \"/>\n<path style=\" stroke:none;fill-rule:nonzero;fill:rgb(26.666667%,26.666667%,26.666667%);fill-opacity:1;\" d=\"M 570.0625 579.792969 L 555.703125 584.132812 L 555.894531 574.863281 L 570.0625 579.792969 \"/>\n<path style=\"fill:none;stroke-width:1;stroke-linecap:butt;stroke-linejoin:miter;stroke:rgb(26.666667%,26.666667%,26.666667%);stroke-opacity:1;stroke-miterlimit:10;\" d=\"M 339.457031 318.433594 C 206.617188 303.308594 151.5 396.722656 62.628906 480.683594 \"/>\n<path style=\" stroke:none;fill-rule:nonzero;fill:rgb(26.666667%,26.666667%,26.666667%);fill-opacity:1;\" d=\"M 52.257812 490.480469 L 59.445312 477.3125 L 65.8125 484.050781 L 52.257812 490.480469 \"/>\n<path style=\"fill:none;stroke-width:1;stroke-linecap:butt;stroke-linejoin:miter;stroke:rgb(26.666667%,26.666667%,26.666667%);stroke-opacity:1;stroke-miterlimit:10;\" d=\"M 339.457031 318.433594 C 470.113281 272.261719 471.765625 151.707031 523.828125 41.640625 \"/>\n<path style=\" stroke:none;fill-rule:nonzero;fill:rgb(26.666667%,26.666667%,26.666667%);fill-opacity:1;\" d=\"M 529.929688 28.746094 L 528.019531 43.621094 L 519.636719 39.660156 L 529.929688 28.746094 \"/>\n<path style=\"fill:none;stroke-width:1;stroke-linecap:butt;stroke-linejoin:miter;stroke:rgb(26.666667%,26.666667%,26.666667%);stroke-opacity:1;stroke-miterlimit:10;\" d=\"M 45.074219 497.269531 L 21.984375 215.785156 \"/>\n<path style=\" stroke:none;fill-rule:nonzero;fill:rgb(26.666667%,26.666667%,26.666667%);fill-opacity:1;\" d=\"M 20.816406 201.566406 L 26.605469 215.40625 L 17.363281 216.164062 L 20.816406 201.566406 \"/>\n<path style=\"fill:none;stroke-width:1;stroke-linecap:butt;stroke-linejoin:miter;stroke:rgb(26.666667%,26.666667%,26.666667%);stroke-opacity:1;stroke-miterlimit:10;\" d=\"M 45.074219 497.269531 C 182.339844 519.789062 348.976562 463.863281 341.054688 342.84375 \"/>\n<path style=\" stroke:none;fill-rule:nonzero;fill:rgb(26.666667%,26.666667%,26.666667%);fill-opacity:1;\" d=\"M 340.125 328.605469 L 345.679688 342.539062 L 336.429688 343.144531 L 340.125 328.605469 \"/>\n<path style=\"fill:none;stroke-width:1;stroke-linecap:butt;stroke-linejoin:miter;stroke:rgb(26.666667%,26.666667%,26.666667%);stroke-opacity:1;stroke-miterlimit:10;\" d=\"M 534.066406 20 C 392.496094 61.113281 248.574219 239.511719 321.457031 302.800781 \"/>\n<path style=\" stroke:none;fill-rule:nonzero;fill:rgb(26.666667%,26.666667%,26.666667%);fill-opacity:1;\" d=\"M 332.230469 312.15625 L 318.417969 306.300781 L 324.496094 299.300781 L 332.230469 312.15625 \"/>\n<path style=\"fill-rule:nonzero;fill:rgb(100%,0%,0%);fill-opacity:1;stroke-width:1;stroke-linecap:butt;stroke-linejoin:miter;stroke:rgb(0%,0%,0%);stroke-opacity:1;stroke-miterlimit:10;\" d=\"M 30 191.601562 C 30 197.121094 25.523438 201.601562 20 201.601562 C 14.476562 201.601562 10 197.121094 10 191.601562 C 10 186.078125 14.476562 181.601562 20 181.601562 C 25.523438 181.601562 30 186.078125 30 191.601562 \"/>\n<path style=\"fill-rule:nonzero;fill:rgb(100%,0%,0%);fill-opacity:1;stroke-width:1;stroke-linecap:butt;stroke-linejoin:miter;stroke:rgb(0%,0%,0%);stroke-opacity:1;stroke-miterlimit:10;\" d=\"M 590 580 C 590 585.523438 585.523438 590 580 590 C 574.476562 590 570 585.523438 570 580 C 570 574.476562 574.476562 570 580 570 C 585.523438 570 590 574.476562 590 580 \"/>\n<path style=\"fill-rule:nonzero;fill:rgb(100%,0%,0%);fill-opacity:1;stroke-width:1;stroke-linecap:butt;stroke-linejoin:miter;stroke:rgb(0%,0%,0%);stroke-opacity:1;stroke-miterlimit:10;\" d=\"M 349.457031 318.433594 C 349.457031 323.957031 344.980469 328.433594 339.457031 328.433594 C 333.933594 328.433594 329.457031 323.957031 329.457031 318.433594 C 329.457031 312.910156 333.933594 308.433594 339.457031 308.433594 C 344.980469 308.433594 349.457031 312.910156 349.457031 318.433594 \"/>\n<path style=\"fill-rule:nonzero;fill:rgb(100%,0%,0%);fill-opacity:1;stroke-width:1;stroke-linecap:butt;stroke-linejoin:miter;stroke:rgb(0%,0%,0%);stroke-opacity:1;stroke-miterlimit:10;\" d=\"M 55.074219 497.269531 C 55.074219 502.792969 50.597656 507.269531 45.074219 507.269531 C 39.550781 507.269531 35.074219 502.792969 35.074219 497.269531 C 35.074219 491.746094 39.550781 487.269531 45.074219 487.269531 C 50.597656 487.269531 55.074219 491.746094 55.074219 497.269531 \"/>\n<path style=\"fill-rule:nonzero;fill:rgb(100%,0%,0%);fill-opacity:1;stroke-width:1;stroke-linecap:butt;stroke-linejoin:miter;stroke:rgb(0%,0%,0%);stroke-opacity:1;stroke-miterlimit:10;\" d=\"M 544.066406 20 C 544.066406 25.523438 539.589844 30 534.066406 30 C 528.542969 30 524.066406 25.523438 524.066406 20 C 524.066406 14.476562 528.542969 10 534.066406 10 C 539.589844 10 544.066406 14.476562 544.066406 20 \"/>\n</g>\n</svg>\n",
      "text/plain": [
       "<igraph.drawing.Plot at 0x7f80efbeb160>"
      ]
     },
     "execution_count": 16,
     "metadata": {
      "image/svg+xml": {
       "isolated": true
      }
     },
     "output_type": "execute_result"
    }
   ],
   "source": [
    "gg = ig.Graph.Adjacency(sample)\n",
    "ig.plot(gg)"
   ]
  },
  {
   "cell_type": "code",
   "execution_count": null,
   "metadata": {},
   "outputs": [],
   "source": []
  }
 ],
 "metadata": {
  "interpreter": {
   "hash": "ac6858c3dbc49267e902ff986705b591b9d7b57befff84fd7d814fe16c4a8e1f"
  },
  "kernelspec": {
   "display_name": "Python 3.8.5 ('ci_covid')",
   "language": "python",
   "name": "python3"
  },
  "language_info": {
   "codemirror_mode": {
    "name": "ipython",
    "version": 3
   },
   "file_extension": ".py",
   "mimetype": "text/x-python",
   "name": "python",
   "nbconvert_exporter": "python",
   "pygments_lexer": "ipython3",
   "version": "3.8.5"
  },
  "orig_nbformat": 4
 },
 "nbformat": 4,
 "nbformat_minor": 2
}
