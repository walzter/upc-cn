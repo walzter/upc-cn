{
 "cells": [
  {
   "cell_type": "code",
   "execution_count": null,
   "metadata": {},
   "outputs": [],
   "source": [
    "tar -zcvf file.tar.gz /Users/Eric/Documents/Uni/Msc/Courses/Sem2/shared_folders/Complex_Networks/2_Models_of_complex_networks/output/BA/graph_files/10000/BA_graph_10000_5_5.npy"
   ]
  },
  {
   "cell_type": "markdown",
   "metadata": {},
   "source": [
    "# A2. Models of complex networks\n",
    "\n",
    "### Implementation of models of complex networks.\n",
    "Implement generators of complex networks for, at least, two of the following models of complex networks (sorted by increasing difficulty), which must include at least one of the two last ones (BA or CM):\n",
    "\n",
    "- Erdös-Rényi (ER) networks, either G(N,K) or G(N,p)\n",
    "\n",
    "- Watts-Strogatz (WS) small-world model\n",
    "\n",
    "- Barabási & Albert (BA) preferential attachment model\n",
    "\n",
    "- Configuration Model (CM)"
   ]
  },
  {
   "cell_type": "markdown",
   "metadata": {},
   "source": [
    "### Imports and Settings"
   ]
  },
  {
   "cell_type": "code",
   "execution_count": null,
   "metadata": {},
   "outputs": [],
   "source": [
    "#Libraries\n",
    "import matplotlib.pyplot as plt\n",
    "import numpy as np \n",
    "import networkx as nx\n",
    "import math"
   ]
  },
  {
   "cell_type": "code",
   "execution_count": null,
   "metadata": {},
   "outputs": [],
   "source": [
    "## PArams\n",
    "from pylab import rcParams\n",
    "rcParams['figure.figsize'] = 12,8"
   ]
  },
  {
   "cell_type": "markdown",
   "metadata": {},
   "source": [
    "## 1. Erdös-Rényi (ER) networks, either G(N,K) or G(N,p)\n",
    "ER: different values of \"K\" for G(N,K), or of \"p\" for G(N,p), such that e.g. k=3, 6, 10"
   ]
  },
  {
   "cell_type": "markdown",
   "metadata": {},
   "source": [
    "### Defining the object"
   ]
  },
  {
   "cell_type": "code",
   "execution_count": null,
   "metadata": {},
   "outputs": [],
   "source": [
    "## make a class for a Erdos-Renyi graph \n",
    "class ErdosRenyi:\n",
    "    \"\"\"\n",
    "    PARAMS: \n",
    "    -------\n",
    "    number_of_nodes : the total number of nodes in the graph \n",
    "    \n",
    "    degrees : degrees (k), maximum degree per node \n",
    "    \n",
    "    probabilities : the probability that will be assigned to each new node \n",
    "    \n",
    "    RETRUNS:\n",
    "    --------\n",
    "    \n",
    "    ER_graph : A randomly generated Erdös-Rényi Graph with the defined parameters above. \n",
    "    \"\"\"\n",
    "    def __init__(self, n_nodes:int, degrees:int, probabilities:float, k:int=3) -> dict:\n",
    "        self.nodes = n_nodes\n",
    "        self.degrees = degrees\n",
    "        self.proba = probabilities\n",
    "        self.k = k\n",
    "        self.graph  = self._generate_graph(nx.Graph(),self.nodes, self.proba)\n",
    "        self.theoretical_values = round(self.proba * (self.nodes - 1),2)\n",
    "        self.experimental_values = round((2.0 * len(self.graph.edges())) / self.nodes,2)\n",
    "        self.deg_hist = self._get_degree_histogram(self.graph)\n",
    "        self.exp_vals = self.deg_hist / sum(self.deg_hist) ## normalizing the histogram\n",
    "        self.dir_to_save = \"./imgs/ER/plots/\" ## directory to save \n",
    "        \n",
    "    ## define the generate_ER_graph function\n",
    "    @staticmethod\n",
    "    def _generate_graph(g, nodes:int, proba:float):\n",
    "        ## instantiate an empty graph \n",
    "        #g = nx.Graph()\n",
    "        ## add nodes to the graph\n",
    "        g.add_nodes_from(range(nodes))\n",
    "        ## iterate over the nodes and\n",
    "        for node in range(0, nodes):\n",
    "            ## generate the random value \n",
    "            rand_val = np.random.uniform(0,1)\n",
    "            ## iterate over a possible link\n",
    "            for edge in range(node+1, nodes):\n",
    "                ## if a random value is less than the probability, add the link\n",
    "                if rand_val < proba or proba == 1:\n",
    "                    ## check the number of edges between the two nodes\n",
    "                    g.add_edge(node, edge)\n",
    "                else:\n",
    "                    continue\n",
    "        ## assign the graph to the class\n",
    "        return g\n",
    "    \n",
    "        ## define function to get the degree histogram\n",
    "    @staticmethod\n",
    "    def _get_degree_histogram(graph):\n",
    "        ## calculate the degree history \n",
    "        return np.array(nx.degree_histogram(graph))\n",
    "\n",
    "    @staticmethod\n",
    "    def _theoretical_distribution(theoretical_values, degree_history):\n",
    "        return [math.exp(-theoretical_values) \\\n",
    "                                                    *theoretical_values**val/math.factorial(val) \\\n",
    "                                                    for val in range(len(degree_history))\n",
    "                                                    ]\n",
    "\n",
    "    \n",
    "    ## plot the network \n",
    "    def _plot_graph(self, axis=None):\n",
    "        \"\"\"plots only the graph\"\"\"\n",
    "        if self.graph:\n",
    "            #layout = nx.spring_layout(self.graph)\n",
    "            nx.draw(self.graph,ax=axis)\n",
    "            plt.title(f'Erdos-Renyi Graph with N = {self.nodes} and p = {self.proba}')\n",
    "            plt.show()\n",
    "    \n",
    "    def _plot_distribution(self):\n",
    "        if self.graph:\n",
    "            ## plotting the Experimental values \n",
    "            plt.plot(self.exp_vals, label='Experimental Degree Distribution', marker='o',linestyle='dashdot', color='red') ## plot the experimental values\n",
    "            plt.axvline(self.experimental_values, color='red', linestyle='--', label=f\"Experimental values = {self.experimental_values}\") ## plot the vertical line\n",
    "            ## plotting the Theoretical values\n",
    "            plt.plot(self._theoretical_distribution(self.theoretical_values, self.deg_hist), color='blue',marker='+',linestyle='dashed', label=\"Theoretical Degree Distribution\") ## plot the theoretical values')\n",
    "            plt.axvline(self.theoretical_values, color='blue', linestyle='--', label=f\"Theoretical values = {self.theoretical_values}\") ## plot the vertical line\n",
    "            plt.title('Degree Distribution')\n",
    "            plt.legend()\n",
    "            plt.xlabel(\"Degrees\")\n",
    "            plt.ylabel(\"Probability of Degree [P(k)]\")\n",
    "            plt.show()\n",
    "            \n",
    "    \n",
    "    def _plot_combined(self):\n",
    "        ## plot the network & the corresponding statistics\n",
    "        fig, axs = plt.subplots(nrows=2, ncols=1, figsize=(20,10))\n",
    "        ## title\n",
    "        nx.draw(self.graph, ax=axs[0])\n",
    "        fig.suptitle(f'Erdos-Renyi Graph with N = {self.nodes} and p = {self.proba}')\n",
    "        axs[1].plot(self.exp_vals, label='Experimental Degree Distribution', marker='o',linestyle='dashdot', color='red') ## plot the experimental values\n",
    "        axs[1].axvline(self.experimental_values, color='red', linestyle='--', label=f\"Experimental values = {self.experimental_values}\") ## plot the vertical line\n",
    "        ## plotting the Theoretical values\n",
    "        axs[1].plot(self._theoretical_distribution(self.theoretical_values, self.deg_hist), color='blue',marker='+',linestyle='dashed', label=\"Theoretical Degree Distribution\") ## plot the theoretical values')\n",
    "        axs[1].axvline(self.theoretical_values, color='blue', linestyle='--', label=f\"Theoretical values = {self.theoretical_values}\") ## plot the vertical line\n",
    "        axs[1].set_title('Degree Distribution')\n",
    "        plt.legend()\n",
    "        axs[1].set_xlabel(\"Degrees\")\n",
    "        axs[1].set_ylabel(\"Probability of Degree [P(k)]\")\n",
    "        #plt.savefig(self.dir_to_save + f\"ER_Theoretical_Actual_Distribution.png\")\n",
    "        plt.tight_layout()\n",
    "        plt.show()"
   ]
  },
  {
   "cell_type": "markdown",
   "metadata": {},
   "source": [
    "### Instantiating the Graph"
   ]
  },
  {
   "cell_type": "code",
   "execution_count": null,
   "metadata": {},
   "outputs": [],
   "source": [
    "g = ErdosRenyi(n_nodes=50, degrees=3, probabilities=0.15, k=3)"
   ]
  },
  {
   "cell_type": "code",
   "execution_count": null,
   "metadata": {},
   "outputs": [],
   "source": [
    "## view the network\n",
    "g._plot_graph()"
   ]
  },
  {
   "cell_type": "code",
   "execution_count": null,
   "metadata": {},
   "outputs": [],
   "source": [
    "## look at the distribution \n",
    "g._plot_distribution()"
   ]
  },
  {
   "cell_type": "code",
   "execution_count": null,
   "metadata": {},
   "outputs": [],
   "source": [
    "## plot both \n",
    "g._plot_combined()"
   ]
  },
  {
   "cell_type": "markdown",
   "metadata": {},
   "source": [
    "### Prepare Delivery files"
   ]
  },
  {
   "cell_type": "code",
   "execution_count": null,
   "metadata": {},
   "outputs": [],
   "source": [
    "## generate the plots and the matrix files to deliver \n",
    "nodes = 100\n",
    "proba = 0.2\n",
    "k = 3 ## fix this \n",
    "for node in [50, 100, 1000, 10000]:\n",
    "    for probs in [0.1, 0.25, 0.5, 0.75, 0.9]:\n",
    "        ## build it \n",
    "        g = ErdosRenyi(node, k, probs).generate_ER_graph()\n",
    "        #nx.draw(g, with_labels=True)\n",
    "        degs = dict(nx.degree(g))\n",
    "        #_ = [print(f\"Node: {i} has degree: {k}\") for i,k in degs.items()]\n",
    "        nx.draw(g, pos=nx.spring_layout(g))\n",
    "        plt.title(f\"Erdos-Renyi Graph with {node} nodes (k={k},p={probs})\")\n",
    "        #plt.hist(degs.values(), bins=range(0, max(degs.values())+1));plt.show()\n",
    "        plt.savefig(f\"./graph_imgs/ER_graph_{node}_{k}_{round(probs*100)}.png\")\n",
    "        plt.show()\n",
    "        output = nx.to_numpy_matrix(g)\n",
    "        np.save(f\"./graphs/ER/{node}/ER_graph_{node}_{k}_{round(probs*100)}.npy\", output)\n",
    "        "
   ]
  },
  {
   "cell_type": "markdown",
   "metadata": {},
   "source": [
    "## 2. Barabási & Albert (BA) preferential attachment model\n",
    "BA: different values of \"m\" (number of edges that each new nodes forms with the existing nodes), e.g. m=1, 2, 5"
   ]
  },
  {
   "cell_type": "code",
   "execution_count": 4,
   "metadata": {},
   "outputs": [],
   "source": [
    "## imports \n",
    "import numpy as np \n",
    "import networkx as nx\n",
    "import matplotlib.pyplot as plt\n",
    "from numba import jit\n",
    "import math\n",
    "from sklearn.linear_model import LinearRegression ## estimation of the exponent"
   ]
  },
  {
   "cell_type": "markdown",
   "metadata": {},
   "source": [
    "### Defining the BA Model"
   ]
  },
  {
   "cell_type": "code",
   "execution_count": 2,
   "metadata": {},
   "outputs": [],
   "source": [
    "@jit(nopython=True,parallel=True,nogil=True)\n",
    "def get_degree_matrix(adjacency_matrix:np.matrix) -> np.matrix:\n",
    "    \"\"\"Returns degree matrix from adjacency matrix\"\"\"\n",
    "    ## create an empty matrix to return the values \n",
    "    empty_like = np.zeros_like(adjacency_matrix)\n",
    "    tmp = np.triu(adjacency_matrix.copy())\n",
    "    ## calculate the rowsum \n",
    "    rowsum = np.sum(tmp, axis=0)\n",
    "    ## calculate the colsum & transpose \n",
    "    colsum = np.sum(tmp, axis=1).T\n",
    "    ## sum them \n",
    "    degrees = rowsum + colsum \n",
    "    ## fill the empty matrix \n",
    "    np.fill_diagonal(empty_like, degrees)\n",
    "    return empty_like"
   ]
  },
  {
   "cell_type": "markdown",
   "metadata": {},
   "source": [
    "### Warm up JIT!"
   ]
  },
  {
   "cell_type": "code",
   "execution_count": 5,
   "metadata": {},
   "outputs": [
    {
     "name": "stdout",
     "output_type": "stream",
     "text": [
      "JIT WARMED UP!\n"
     ]
    }
   ],
   "source": [
    "def warm_up_jit(num:int, shape:tuple) -> None:\n",
    "    \"\"\" Warms up Numbas JIT with a calculation \"\"\"\n",
    "    ## WARMING UP JIT!!\n",
    "    random_mat = np.random.randint(5,size=(10,10))\n",
    "    kk = get_degree_matrix(random_mat)\n",
    "    print(\"JIT WARMED UP!\")\n",
    "warm_up_jit(5, (100,100))"
   ]
  },
  {
   "cell_type": "markdown",
   "metadata": {},
   "source": [
    "### Defining the Object"
   ]
  },
  {
   "cell_type": "code",
   "execution_count": 6,
   "metadata": {},
   "outputs": [],
   "source": [
    "## define a class for a Barabasi-Albert graph\n",
    "class BarabasiAlbert:\n",
    "    def __init__(self, n_nodes:int, m:int, init_graph_size:int,init_method:str):\n",
    "        self.nodes = n_nodes\n",
    "        self.max_edge_per_node = m\n",
    "        self.init_method = init_method\n",
    "        self.proba = 0.2\n",
    "        self.init_graph_size = init_graph_size\n",
    "        self.prob = np.random.uniform()\n",
    "        self.graph = self.generate_initial_graph(self.init_graph_size,self.prob,self.init_method)\n",
    "        self.final_mat = np.zeros(shape=(self.nodes, self.nodes))\n",
    "        self.linear = LinearRegression()\n",
    "        self.theoretical_values = round(self.proba * (self.nodes - 1),2)\n",
    "        self.experimental_values = round((2.0 * len(self._to_networkx(self.final_mat).edges())) / self.nodes,2)\n",
    "        self.deg_hist = self._get_degree_histogram(self._to_networkx(self.graph))\n",
    "        self.exp_vals = self.deg_hist / sum(self.deg_hist) ## normalizing the histogram\n",
    "    ## generate a \n",
    "    @staticmethod\n",
    "    def _get_degree_histogram(graph):\n",
    "        ## calculate the degree history \n",
    "        return np.array(nx.degree_histogram(graph))\n",
    "    @staticmethod\n",
    "    def _theoretical_distribution(theoretical_values, degree_history):\n",
    "        return [np.exp(-theoretical_values) \\\n",
    "                                                    *theoretical_values**val/math.factorial(val) \\\n",
    "                                                    for val in range(len(degree_history))\n",
    "                                                    ]\n",
    "    @staticmethod\n",
    "    def generate_initial_graph(init_graph_size:int, probability:float,init_method:str='ER') -> np.matrix:\n",
    "        \"\"\"This methods casts the probability to the randomly initiated matrix\n",
    "        such that it will only keep the True values remain in the matrix.\n",
    "        It follows a similar approach to the nx.erdos_renyi_graph(), but it is \n",
    "        in the form of the Adjacency Matrix, for which the degree matrix can also\n",
    "        be used to make sure that the method works correctly. \n",
    "\n",
    "        PARAMS:\n",
    "        ------\n",
    "        n_nodes: int : number of nodes in the graph\n",
    "        probability: float : probability of the edge to be present\n",
    "        init_method: str : the method to use to generate the initial graph\n",
    "        \n",
    "        OUTPUT:\n",
    "        -------\n",
    "        zmatrix: np.matrix : the adjacency matrix of the graph\n",
    "        \n",
    "        \"\"\"\n",
    "        ## a random matrix with the given probability\n",
    "        if init_method == 'ER':\n",
    "            ## print the probability\n",
    "            print(f\"The probability is {probability:.2f}\")\n",
    "            ## initiate a matrix (Nodes, Nodes), filled with 0s\n",
    "            zmat = np.random.uniform(size=(init_graph_size,init_graph_size))\n",
    "            ## get the indices of the upper triangle\n",
    "            triu_idx = np.triu_indices(init_graph_size, k=1)\n",
    "            ## fill the upper triangle with the probability\n",
    "            zmat[triu_idx] = np.random.uniform(size=(len(triu_idx[0])))\n",
    "            ## check all the values if greater than the probability\n",
    "            zmat = np.where(zmat<probability,1,0)\n",
    "            np.fill_diagonal(zmat,0)\n",
    "            ## return the matrix\n",
    "            return zmat\n",
    "        ## A fully connected graph is generated     \n",
    "        if init_method == 'fc':\n",
    "            ## generate a fully connected graph\n",
    "            fmat = np.ones((init_graph_size,init_graph_size))\n",
    "            ## remove the diagonal\n",
    "            np.fill_diagonal(fmat,0)\n",
    "            ## return the matrix    \n",
    "            return fmat\n",
    "    \n",
    "    ## returns it in the form of a networkx graph\n",
    "    @staticmethod\n",
    "    def _to_networkx(graph:dict) -> nx.Graph:\n",
    "        ## convert the matrix to a networkx graph\n",
    "        return nx.from_numpy_matrix(graph, create_using=nx.MultiGraph, parallel_edges=False)\n",
    "    ## define the new node function \n",
    "    @staticmethod\n",
    "    def get_new_node(degrees:np.array) -> int:\n",
    "        ## sum of all degrees\n",
    "        deg_sum = np.sum(degrees)\n",
    "        ## probabilities for each degree\n",
    "        #deg_prob = degrees / deg_sum\n",
    "        ## bin the degrees\n",
    "        deg_bin = degrees.cumsum()\n",
    "        ## insert a 0 at the beginning\n",
    "        deg_bin = np.concatenate((deg_bin[:0], [0], deg_bin[0:]))\n",
    "        ## random uniform from 0 to 1 * sum(degree)\n",
    "        rand_val = np.random.uniform(0, 1) * deg_sum\n",
    "        ## identify which node to add it to\n",
    "        add_to = np.digitize(rand_val, deg_bin)\n",
    "        ## return the node to add to\n",
    "        return add_to\n",
    "    ## define the function to create the network \n",
    "    def _matrix_BA(self) -> np.matrix:\n",
    "        \"\"\"Runs the BA model with the adjacency matrix and the degree matrix\"\"\"\n",
    "        if (self.graph is not None) and (self.init_method == 'fc'):\n",
    "            ## assign the graph to the corresponding matrix locations \n",
    "            self.final_mat[:self.init_graph_size, :self.init_graph_size] = self.graph\n",
    "            ## counter for added nodes \n",
    "            for tgt_node in range(self.init_graph_size, self.nodes):\n",
    "                ## the current degree is \n",
    "                deg_mat = get_degree_matrix(self.final_mat)\n",
    "                diagonals = np.diagonal(deg_mat)\n",
    "                M = 0\n",
    "                while self.max_edge_per_node >= M:\n",
    "                    new_node = self.get_new_node(diagonals) - 1\n",
    "                    if new_node == tgt_node:\n",
    "                        break\n",
    "                    else:\n",
    "                        self.final_mat[new_node,tgt_node]=1\n",
    "                        M+=1\n",
    "        return self.final_mat\n",
    "    ## estimate the exponent \n",
    "    @staticmethod\n",
    "    def _estimate_exponent(graph:nx.Graph, model) -> float:\n",
    "        ## first get the degree histogram \n",
    "        dghist = nx.degree_histogram(graph)\n",
    "        ## only get the positive values \n",
    "        dg_pos = [x for x in dghist if x>0]\n",
    "        ## calculate the distributions\n",
    "        calc_pos = np.array([np.log(float(i)/sum(dg_pos)) for i in dg_pos]).reshape(-1,1)\n",
    "        ## get the same for dghist ## reshape to -1,1 to get into (N,1) instead (N,)\n",
    "        calc_hist =  np.asarray([np.log(i) for i in range(len(dghist)) if dghist[i]>0]).reshape(-1,1)\n",
    "        ## fit a LinearRegression model\n",
    "        model.fit(calc_pos, calc_hist)\n",
    "        ## get the coefficient \n",
    "        lr_coef = -1* model.coef_[0][0]\n",
    "        ## plot the distributions\n",
    "        plt.scatter([np.exp(x) for x in calc_hist], [np.exp(y) for y in calc_pos],  color='black', label='Experimental distribution')\n",
    "        plt.plot([np.exp(x) for x in calc_hist], [np.exp(y) for y in model.predict(calc_hist)], color='blue', linewidth=2, label='Estimated distribution')\n",
    "        plt.xscale('log')\n",
    "        plt.yscale('log')\n",
    "        plt.legend(loc=1)\n",
    "        plt.xlabel('Degree')\n",
    "        plt.ylabel('Probability [P(k)]')\n",
    "        plt.title(f'Estimation of the exponent of the BA Model:  {lr_coef:.2f}')\n",
    "        plt.show()\n",
    "            \n",
    "    def _plot_combined(self):\n",
    "        ## plot the network & the corresponding statistics\n",
    "        fig, axs = plt.subplots(nrows=2, ncols=1, figsize=(20,10))\n",
    "        ## title\n",
    "        nx.draw(self._to_networkx(self.final_mat), ax=axs[0])\n",
    "        fig.suptitle(f'BA Graph with N = {self.nodes} and p = {self.proba}')\n",
    "        axs[1].plot(self.exp_vals, label='Experimental Degree Distribution', marker='o',linestyle='dashdot', color='red') ## plot the experimental values\n",
    "        axs[1].axvline(self.experimental_values, color='red', linestyle='--', label=f\"Experimental values = {self.experimental_values}\") ## plot the vertical line\n",
    "        ## plotting the Theoretical values\n",
    "        axs[1].plot(self._theoretical_distribution(self.theoretical_values, self.deg_hist), color='blue',marker='+',linestyle='dashed', label=\"Theoretical Degree Distribution\") ## plot the theoretical values')\n",
    "        axs[1].axvline(self.theoretical_values, color='blue', linestyle='--', label=f\"Theoretical values = {self.theoretical_values}\") ## plot the vertical line\n",
    "        axs[1].set_title('Degree Distribution')\n",
    "        plt.legend()\n",
    "        axs[1].set_xlabel(\"Degrees\")\n",
    "        axs[1].set_ylabel(\"Probability of Degree [P(k)]\")\n",
    "        #plt.savefig(self.dir_to_save + f\"ER_Theoretical_Actual_Distribution.png\")\n",
    "        plt.tight_layout()\n",
    "        plt.show()"
   ]
  },
  {
   "cell_type": "markdown",
   "metadata": {},
   "source": [
    "### Testing the Object"
   ]
  },
  {
   "cell_type": "code",
   "execution_count": null,
   "metadata": {},
   "outputs": [],
   "source": [
    "NODES = 100\n",
    "START_SIZE = 5 \n",
    "EDGES = 10\n",
    "INIT = 'fc' # fully connected\n",
    "## instantiate the model \n",
    "BA = BarabasiAlbert(NODES, EDGES, START_SIZE, INIT)\n",
    "## get the initial graph \n",
    "G = BA.graph ## returns dictionary\n",
    "## we can also get the networkx one \n",
    "Gn = BA._to_networkx(G) ## returns networkX \n",
    "nx.draw(Gn)\n",
    "plt.show()\n",
    "## run the matrix BA algorithm \n",
    "GM = BA._matrix_BA()\n",
    "## to network \n",
    "GMn = BA._to_networkx(GM)\n",
    "nx.draw(GMn)\n",
    "plt.show()\n",
    "## in a ciruclar layout \n",
    "pos = nx.circular_layout(GMn)\n",
    "nx.draw(GMn, pos=pos);plt.show()"
   ]
  },
  {
   "cell_type": "code",
   "execution_count": null,
   "metadata": {},
   "outputs": [],
   "source": [
    "BA._estimate_exponent(GMn, BA.linear)"
   ]
  },
  {
   "cell_type": "markdown",
   "metadata": {},
   "source": [
    "## loop for delivery\n"
   ]
  },
  {
   "cell_type": "code",
   "execution_count": 17,
   "metadata": {},
   "outputs": [
    {
     "data": {
      "text/plain": [
       "196"
      ]
     },
     "execution_count": 17,
     "metadata": {},
     "output_type": "execute_result"
    }
   ],
   "source": [
    "import gc \n",
    "gc.collect()"
   ]
  },
  {
   "cell_type": "code",
   "execution_count": null,
   "metadata": {},
   "outputs": [],
   "source": [
    "START_SIZE = 5\n",
    "INIT = 'fc'\n",
    "k = 5 ## fix this \n",
    "node = 10000\n",
    "from tqdm import tqdm\n",
    "for node in tqdm([10000]):\n",
    "    for k in tqdm([5]):\n",
    "        ## build it \n",
    "        BA = BarabasiAlbert(node, k, START_SIZE, INIT)\n",
    "        ## plots \n",
    "        #fig, axs = plt.subplots(nrows=1, ncols=3,figsize=(20,8))\n",
    "        #fig.suptitle(f\"Barabási & Albert Graph with {node} and edges {k}\")\n",
    "        ## plot the start network \n",
    "        #G = BA.graph ## returns dictionary\n",
    "        ## we can also get the networkx one \n",
    "        #Gn = BA._to_networkx(G) ## returns networkX \n",
    "        #nx.draw(Gn, ax=axs[0])\n",
    "        ## create the new one \n",
    "        GM = BA._matrix_BA()\n",
    "        ## to network \n",
    "        GMn = BA._to_networkx(GM)\n",
    "        #nx.draw(GMn, ax=axs[1])\n",
    "        ## add the circular layout\n",
    "        #pos = nx.circular_layout(GMn)\n",
    "        #nx.draw(GMn,pos=pos, ax=axs[2])\n",
    "        #degs = dict(nx.degree(GMn))\n",
    "        #axs[0].set_title(\"Start Graph (Fully Connected)\")\n",
    "        #axs[1].set_title(\"Generated Graph (Spring Layout)\")\n",
    "        #axs[2].set_title(\"Generated Graph with Circular Layout\")\n",
    "        #plt.savefig(f\"./output/BA/diff_parameter_plots/BA_graph_{node}_{k}_{START_SIZE}.png\")\n",
    "        #plt.clf()\n",
    "        #dghist = nx.degree_histogram(GMn)\n",
    "        ## only get the positive values \n",
    "        # dg_pos = [x for x in dghist if x>0]\n",
    "        # ## calculate the distributions\n",
    "        # calc_pos = np.array([np.log(float(i)/sum(dg_pos)) for i in dg_pos]).reshape(-1,1)\n",
    "        # ## get the same for dghist ## reshape to -1,1 to get into (N,1) instead (N,)\n",
    "        # calc_hist =  np.asarray([np.log(i) for i in range(len(dghist)) if dghist[i]>0]).reshape(-1,1)\n",
    "        # ## fit a LinearRegression model\n",
    "        # BA.linear.fit(calc_pos, calc_hist)\n",
    "        # ## get the coefficient \n",
    "        # lr_coef = -1* BA.linear.coef_[0][0]\n",
    "        # ## plot the distributions\n",
    "        # plt.scatter([np.exp(x) for x in calc_hist], [np.exp(y) for y in calc_pos],  color='black', label='Experimental distribution')\n",
    "        # plt.plot([np.exp(x) for x in calc_hist], [np.exp(y) for y in BA.linear.predict(calc_hist)], color='blue', linewidth=2, label='Estimated distribution')\n",
    "        # plt.xscale('log')\n",
    "        # plt.yscale('log')\n",
    "        # plt.legend(loc=1)\n",
    "        # plt.xlabel('Degree')\n",
    "        # plt.ylabel('Probability [P(k)]')\n",
    "        # plt.title(f'Estimation of the exponent of the BA Model:  {lr_coef:.2f}')\n",
    "        # plt.savefig(f\"./output/BA/stats_plots/BA_EXPONENT_EST_graph_{node}_{k}_{START_SIZE}.png\")\n",
    "        # # plt.title(f\"Erdos-Renyi Graph with {node} nodes (k={k},p={probs})\")\n",
    "        #plt.hist(degs.values(), bins=range(0, max(degs.values())+1));plt.show()\n",
    "        #plt.show()\n",
    "        output = nx.to_numpy_matrix(GMn)\n",
    "        np.save(f\"./output/BA/graph_files/{node}/BA_graph_{node}_{k}_{START_SIZE}.npy\", output)\n",
    "        gc.collect()\n",
    "        "
   ]
  }
 ],
 "metadata": {
  "interpreter": {
   "hash": "4074c6767ec73ea69747b656614144d24721785b8df68decaa3fba3b2e9c6c00"
  },
  "kernelspec": {
   "display_name": "Python 3.9.7 ('base')",
   "language": "python",
   "name": "python3"
  },
  "language_info": {
   "codemirror_mode": {
    "name": "ipython",
    "version": 3
   },
   "file_extension": ".py",
   "mimetype": "text/x-python",
   "name": "python",
   "nbconvert_exporter": "python",
   "pygments_lexer": "ipython3",
   "version": "3.8.5"
  },
  "orig_nbformat": 4
 },
 "nbformat": 4,
 "nbformat_minor": 2
}
