{
 "cells": [
  {
   "cell_type": "markdown",
   "metadata": {},
   "source": [
    "# A4. Epidemic spreading on complex networks\n",
    "## Epidemic spreading using the SIS model\n",
    "\n",
    "Monte Carlo simulation of an epidemic spreading dynamics in complex networks, using the SIS model in which each node represents an individual which can be in two possible states: Susceptible (S), i.e., healthy but can get infected; Infected (I), i.e., has the disease and can spread it to its neighbors.\n",
    "\n",
    "We are interested in the calculation of the fraction of infected nodes, ρ, in the stationary state, as a function of the infection probability of the disease β (at least 51 values between β=0 and β=1, Δβ=0.02), for different values of the recovery probability μ (e.g. 0.1, 0.5, 0.9). Try different undirected networks (e.g., Erdös-Rényi, scale-free, real), different sizes (at least 500 nodes), average degrees, exponents, etc. Do not make all the combinations, about 10 plots ρ(β) are enough.\n",
    "\n",
    "Optionally (but mandatory if you want to opt to the maximum grade), compare the ρ(β) result from Monte Carlo simulations with the theoretical prediction provided by the Microscopic Markov Chain Approach (MMCA) model.\n",
    "\n",
    "### The delivery must include:\n",
    "\n",
    "Source code\n",
    "\n",
    "Networks used in Pajek format\n",
    "\n",
    "Results files\n",
    "\n",
    "Document (in PDF) including:\n",
    "\n",
    "Short explanations on how have you done the required work (software, decisions, etc.)\n",
    "Plots, pointing out “all” the parameters of the corresponding simulation.\n",
    "\n",
    "Monte Carlo simulations may require a lot of computing time, thus it is recommended the use of compiled languages. In general, and mainly if you are using interpreted languages (e.g., python, Matlab, octave, R), first make tests with small networks, few time steps, and few repetitions, before making the definitive simulations.\n",
    "\n",
    "Observation: in the original paper on MMCA, the modeled SIS dynamic allows for \"one-step reinfections\", which are not present in our description of the Monte Carlo simulations. Thus, the last term in Eq. (1) of the paper published in Europhys. Lett. must be removed in order that simulation and theoretical model be comparable. For a comparison of dynamics with and without one-step reinfections, please check the paper published in Int. J. Complex Sys. Sci.\n"
   ]
  },
  {
   "cell_type": "code",
   "execution_count": 1,
   "metadata": {},
   "outputs": [],
   "source": [
    "## Imports \n",
    "import igraph as ig\n",
    "import matplotlib.pylab as plt\n",
    "from termcolor import colored\n",
    "import numpy as np \n",
    "import random\n",
    "from tqdm import tqdm\n",
    "from collections import defaultdict\n",
    "from src.SIS import SIS\n",
    "import gc \n",
    "import itertools\n",
    "seed1 = np.random.seed(4234)\n",
    "seed2 = random.seed(4234)"
   ]
  },
  {
   "cell_type": "code",
   "execution_count": 2,
   "metadata": {},
   "outputs": [],
   "source": [
    "## reloading \n",
    "%load_ext autoreload\n",
    "%autoreload 2"
   ]
  },
  {
   "cell_type": "markdown",
   "metadata": {},
   "source": [
    "## Simple SIS Model (NOT FOR THE DELIVERY)"
   ]
  },
  {
   "cell_type": "markdown",
   "metadata": {},
   "source": [
    "### Defining it "
   ]
  },
  {
   "cell_type": "code",
   "execution_count": null,
   "metadata": {},
   "outputs": [],
   "source": [
    "\n",
    "## Implementing a simple SIS model with\n",
    "def sis_infection(susceptible_people:int,       ## Susceptible (S)\n",
    "                  infected_people:int,          ## Infected    (I)\n",
    "                  population:int,               ## Population  (N)\n",
    "                  beta:float,                   ## Transmission Rate prior to change (beta)\n",
    "                  gamma:float,                  ## Recovery Rate (gamma)\n",
    "                  n_iterations:int,             ## Number of iterations\n",
    "                  n_batch:int,                  ## Number of batches\n",
    "                  verbosity:bool=True,          ## Whether to show every 50th iteration the results \n",
    "                  _plot:bool=False) -> list:    ## Whether to plot the final results \n",
    "    \"\"\"\n",
    "    \n",
    "    Calculates the SIS model by the following equation: \n",
    "    \n",
    "    INITIAL CONFIGURATION: \n",
    "    \n",
    "    Population  (N) = 100\n",
    "    Susceptible (S) = N - 1  (100 - 1 = 99)\n",
    "    Infected    (I) = 1\n",
    "    \n",
    "    MODEL: \n",
    "    \n",
    "    For every timeperiod t_{i}, the susceptible and infected populations\n",
    "    will be recalculated using a set recovery rate ($\\gamma$) and a \n",
    "    transmission rate prior to change. \n",
    "    \n",
    "    gamma = 0.2 ## recovery rate \n",
    "    beta = 0.3  ## transmission rate \n",
    "    \n",
    "    S = (S - beta * S * I/N) + gamma * I\n",
    "    S = (I - beta * S * I/N) + gamma * I\n",
    "    \n",
    "    \"\"\"\n",
    "    ## holders \n",
    "    sholder = [None] * population\n",
    "    iholder = [None] * population\n",
    "    ## text \n",
    "    for idx,t in enumerate(range (0, n_iterations)):\n",
    "        ## update the susceptible population \n",
    "        susceptible_people = susceptible_people - (beta * susceptible_people * infected_people / population) + gamma * infected_people\n",
    "        ## update the infected population \n",
    "        infected_people = infected_people + (beta * susceptible_people * infected_people / population) - gamma * infected_people\n",
    "        ## update the holders \n",
    "        sholder[idx] = susceptible_people\n",
    "        iholder[idx] = infected_people\n",
    "        ## some feedback\n",
    "        if verbosity: \n",
    "            if t%n_batch == 0:\n",
    "                it_txt = f\"| Iteration = {t} | \"\n",
    "                s_txt = f\"Susceptible = {round(susceptible_people,0)} ({susceptible_people/population*100:.2f}%) | \"\n",
    "                i_txt = f\"Infected = {round(infected_people,0)} ({infected_people/population*100:.2f}%)|\"\n",
    "                print(it_txt, colored(s_txt, 'green'), colored(i_txt,'red'))\n",
    "                \n",
    "    if _plot:\n",
    "        ## show the plots \n",
    "        figure = plt.figure()  ## creating the figure \n",
    "        figure.canvas.manager.set_window_title ('SIS model') ## set a title \n",
    "        plt.plot(iholder, label='Infected - I(t)') ## plot the I \n",
    "        plt.plot(sholder, label='Susceptible - S(t)') ## plot the S \n",
    "        plt.legend() ## add legend \n",
    "        plt.ticklabel_format(style='sci', axis='y', scilimits=(0,0)) ## scientificnotation \n",
    "        plt.xlabel('Timepoint (t)') ## labels \n",
    "        plt.ylabel('Percentage of Individuals (N in %)') ## labels \n",
    "        plt.show()\n",
    "    ## return the variables \n",
    "    return sholder, iholder"
   ]
  },
  {
   "cell_type": "markdown",
   "metadata": {},
   "source": [
    "### Running it "
   ]
  },
  {
   "cell_type": "code",
   "execution_count": null,
   "metadata": {},
   "outputs": [],
   "source": [
    "## Initial Population \n",
    "N = 1000000\n",
    "N_ITER = 150\n",
    "## Number of Susceptible people\n",
    "S = N - 1\n",
    "## Number of Infected people \n",
    "I = 1\n",
    "## Parameters \n",
    "## Transmission rate prior to change\n",
    "BETA = 0.5\n",
    "## Recovery rate\n",
    "GAMMA = 0.2\n",
    "## number of batches for feedback \n",
    "N_BATCH = 25\n",
    "## Verbosity \n",
    "VERBOSITY = True \n",
    "## plotting \n",
    "PLOTTING = True\n",
    "## kwargs\n",
    "config = {\n",
    "        \"susceptible_people\" : S,\n",
    "        \"infected_people\"    : I,\n",
    "        \"population\"         : N,\n",
    "        \"beta\"               : BETA, \n",
    "        \"gamma\"              : GAMMA, \n",
    "        \"n_iterations\"       : N_ITER,\n",
    "        \"n_batch\"            : N_BATCH,\n",
    "        \"verbosity\"          : VERBOSITY,\n",
    "        \"_plot\"              : PLOTTING\n",
    "        }\n",
    "\n",
    "## running \n",
    "sus, inf = sis_infection(**config)"
   ]
  },
  {
   "cell_type": "markdown",
   "metadata": {},
   "source": [
    "## Task at hand"
   ]
  },
  {
   "cell_type": "markdown",
   "metadata": {},
   "source": [
    "### Steps to do: \n",
    "\n",
    "0. Implement a simple SIS model [DONE]\n",
    "1. Perform the SIS modelling on igraph or graph-tools \n",
    "2. Implement the Monte Carlo Method for the simulation \n",
    "3. Evaluate and average out the results "
   ]
  },
  {
   "cell_type": "markdown",
   "metadata": {},
   "source": [
    "#### Read Bibliography Files"
   ]
  },
  {
   "cell_type": "code",
   "execution_count": null,
   "metadata": {},
   "outputs": [],
   "source": [
    "import glob\n",
    "import pybtex\n",
    "from pybtex.database.input import bibtex\n",
    "def load_parse_bib(bib_path:str) -> pybtex.database.BibliographyData:\n",
    "    \"\"\"\n",
    "    Loads the bib files in the directory and returns the given data format\n",
    "    for the bibliography files. \n",
    "    \"\"\"\n",
    "\n",
    "    ## start the parser \n",
    "    parser = bibtex.Parser()\n",
    "    ## get the bib files \n",
    "    bib_files = glob.glob(bib_path+\"/*.bib\")\n",
    "    ## read the files\n",
    "    bib_data = [parser.parse_file(x) for x in bib_files]\n",
    "    ## since they are all parsed, we can return the first element \n",
    "    ret_bib_data = bib_data[0]\n",
    "    return ret_bib_data\n"
   ]
  },
  {
   "cell_type": "code",
   "execution_count": null,
   "metadata": {},
   "outputs": [],
   "source": [
    "from collections import defaultdict\n",
    "def get_bib_data(path_to_file:str, verbose:bool) -> dict:\n",
    "    \"\"\"\n",
    "    Prints the following information about the citation:\n",
    "    Title, Journal, Year, Author(s)\n",
    "    \"\"\"\n",
    "    bib_data = load_parse_bib(bib_path = path_to_file)\n",
    "    holder = defaultdict(dict)\n",
    "    ## article\n",
    "    papers = list(bib_data.entries.keys())\n",
    "    ## info \n",
    "    for idx,ids in enumerate(papers):\n",
    "        c_data = bib_data.entries[ids]\n",
    "        title = c_data.fields['title']\n",
    "        journal = c_data.fields['journal']\n",
    "        year = c_data.fields['year']\n",
    "        ## authors \n",
    "        authors = [\" \".join(x.first_names + x.last_names)  for x in c_data.persons['author']][:3]\n",
    "        ## joined on a string \n",
    "        ret_authors = ' '.join((x for x in authors))\n",
    "        ## update tracker\n",
    "        holder[idx]['title'] = title\n",
    "        holder[idx]['journal'] = journal\n",
    "        holder[idx]['year'] = year\n",
    "        holder[idx]['author'] = authors[0]\n",
    "        if verbose:\n",
    "            print(colored(f'Source {idx+1}','green'))\n",
    "            print(colored(\"Title:\",attrs=['bold']),f\"{title}\")\n",
    "            print(colored(\"Journal:\",attrs=['bold']),f\"{journal}\")\n",
    "            print(colored(\"Year:\",attrs=['bold']),f\"{year}\")\n",
    "            print(colored(\"Authors:\",attrs=['bold']),f\"{ret_authors}\\n\")\n",
    "    return holder"
   ]
  },
  {
   "cell_type": "code",
   "execution_count": null,
   "metadata": {},
   "outputs": [],
   "source": [
    "## where the citation (.bib) files are located\n",
    "CITATIONS = \"./citations\"\n",
    "VERBOSITY = True\n",
    "## returns a dictionary \n",
    "info = get_bib_data(path_to_file=CITATIONS,verbose=VERBOSITY)"
   ]
  },
  {
   "cell_type": "markdown",
   "metadata": {},
   "source": [
    "### SIS Model\n",
    "\n",
    "## Introduction: Epidemiological Models\n",
    "\n",
    "Epidemic modelling is a field which has come under a lot of attention ever since the onset of COVID-19, at a much larger scale than before. In order to depict the spread of the disease, it is necessary \n",
    "\n",
    "The Susceptible (S) Infected (I) Susceptible (S) (SIS) Model is a used"
   ]
  },
  {
   "cell_type": "markdown",
   "metadata": {},
   "source": [
    "##### SIS SETUP PARAMETERS"
   ]
  },
  {
   "cell_type": "code",
   "execution_count": 27,
   "metadata": {},
   "outputs": [],
   "source": [
    "VERBOSITY = False             ## Print the information about the steps, high verbosity. \n",
    "SEED = 4234                   ## seed for the random number generator\n",
    "## ------- ------- ------- -------\n",
    "## -------  SIS PARAMETERS -------\n",
    "## ------- ------- ------- -------\n",
    "P = 0.2                       ## initial infected population \n",
    "MU = 0.1                      ## mu: spontaneous recovery probability \n",
    "BETA = 0.02                   ## beta: infection probability, when S in contact with I (Transmission Rate)\n",
    "N = 500                       ## we will also need an initial population\n",
    "T_MAX = 1000                  ## time step\n",
    "T_TRANS = 900                 ## transition \n",
    "STEPS4CALC = T_MAX - T_TRANS  ## number of steps to calculate the average\n",
    "N_REPS = 1                    ## number of repetitions for the simulation"
   ]
  },
  {
   "cell_type": "code",
   "execution_count": 28,
   "metadata": {},
   "outputs": [],
   "source": [
    "## ------- ------- ------- -------\n",
    "## -------  SIS DICTIONARY -------\n",
    "## ------- ------- ------- -------\n",
    "MC_SIS_CONFIG = {\n",
    "            \"g\":None,\n",
    "            \"initial_population\":N,\n",
    "            \"initial_infected_population\":P,\n",
    "            \"mu\":MU,\n",
    "            \"beta\":BETA,\n",
    "            \"n_iter\":T_MAX,\n",
    "            \"seed\":SEED,\n",
    "            \"verbose\":VERBOSITY,\n",
    "            }"
   ]
  },
  {
   "cell_type": "code",
   "execution_count": 29,
   "metadata": {},
   "outputs": [],
   "source": [
    "## ------- ------- ------- -------\n",
    "## -------   VISUAL STYLE  -------\n",
    "## ------- ------- ------- -------\n",
    "visual_style = {}\n",
    "visual_style[\"edge_width\"] = 0.01 ## EDGE WIDTH\n",
    "visual_style[\"vertex_size\"] = 4 ## SIZE OF THE NODEs\n",
    "visual_style[\"bbox\"] = (200,200) ## SIZE OF GRAPH (MAINTAINS DPI)\n",
    "visual_style[\"margin\"] = 10      ## MARGIN of the graph"
   ]
  },
  {
   "cell_type": "markdown",
   "metadata": {},
   "source": [
    "### Running the SIS-Numpy Based "
   ]
  },
  {
   "cell_type": "code",
   "execution_count": 30,
   "metadata": {},
   "outputs": [
    {
     "name": "stdout",
     "output_type": "stream",
     "text": [
      "Number of Mu values: 3 | Number of Beta values: 51 | Total combinations: 153\n"
     ]
    }
   ],
   "source": [
    "## making the combination of the parameters \n",
    "\n",
    "mus = [0.1, 0.5, 0.9] ## generate the mu list \n",
    "betas = np.arange(0,1.02,0.02) ## generate the beta list \n",
    "COMBS = list(itertools.product(mus,betas)) ## make a combination of all the mus and betas\n",
    "print(f\"Number of Mu values: {len(mus)} | Number of Beta values: {len(betas)} | Total combinations: {len(COMBS)}\")"
   ]
  },
  {
   "cell_type": "code",
   "execution_count": 63,
   "metadata": {},
   "outputs": [],
   "source": [
    "GRAPHS = {\n",
    "    ## ER\n",
    "    \"ER_500_0.2\":ig.Graph.Erdos_Renyi(500, p=0.2),\n",
    "    #\"ER_750_0.4\":ig.Graph.Erdos_Renyi(750, p=0.4),\n",
    "    #\"ER_900_0.6\":ig.Graph.Erdos_Renyi(1000, p=0.6),\n",
    "    ## Barabasi\n",
    "    \"BA_500_3\":ig.Graph.Barabasi(n=500, m=3),\n",
    "    #\"BA_750_2\":ig.Graph.Barabasi(n=750, m=2),\n",
    "    #\"BA_1000_2\":ig.Graph.Barabasi(n=1000, m=2),\n",
    "    ## Watts\n",
    "    \"WS_500_4_0.2\":ig.Graph.Watts_Strogatz(dim = 1,size=500, nei=4, p=0.2),\n",
    "    #\"WS_750_4_0.4\":ig.Graph.Watts_Strogatz(dim = 1,size=750, nei=4, p=0.4),\n",
    "    #\"WS_900_4_0.6\":ig.Graph.Watts_Strogatz(dim = 1,size=900, nei=4, p=0.6),\n",
    "    ## Forest Fire\n",
    "    \"FF_500_0.99\":ig.Graph.Forest_Fire(n=500, fw_prob=0.90),\n",
    "    #\"FF_750_0.99\":ig.Graph.Forest_Fire(n=750, fw_prob=0.90),\n",
    "    #\"FF_900_0.99\":ig.Graph.Forest_Fire(n=900, fw_prob=0.90),\n",
    "}\n",
    "## write the file to pajek \n",
    "FORMAT = 'pajek'\n",
    "EXTENSION = \".net\"\n",
    "OUT_DIR = \"./Networks\"\n",
    "for g in GRAPHS:\n",
    "    ig.write(GRAPHS[g], OUT_DIR+\"/\"+g+EXTENSION, format=FORMAT)"
   ]
  },
  {
   "cell_type": "code",
   "execution_count": null,
   "metadata": {},
   "outputs": [],
   "source": [
    "import pickle"
   ]
  },
  {
   "cell_type": "code",
   "execution_count": 68,
   "metadata": {},
   "outputs": [],
   "source": [
    "def MC_SIS(graph_dict: dict, mu_beta_comb:list,n_reps:int, params:dict):\n",
    "    ## save all the results\n",
    "    all_results = defaultdict(defaultdict)\n",
    "    graphs = defaultdict(defaultdict)\n",
    "    for graph in (pbar := tqdm(graph_dict)):\n",
    "        params['g'] = graph_dict[graph]\n",
    "        graphs[graph] = all_results\n",
    "        for i in range(n_reps):\n",
    "            for mu0, beta0 in mu_beta_comb:\n",
    "                pbar.set_description(f\"| Processing | {graph} | Repetition: {i} | Mu: {mu0} | Beta: {beta0} |\\t\")\n",
    "                params['mu'] = mu0      ## set the mu to the config file \n",
    "                params['beta'] = beta0  ## set the beta to the config file\n",
    "                ## instantiate the SIS model & simulate)\n",
    "                rho_ = SIS(**params)._run_simulation() ## returns the average rho \n",
    "                if beta0 not in all_results[mu0].keys(): ## if the beta is not in the dictionary\n",
    "                    graphs[graph][mu0][beta0] = []       ## create a new list for the beta\n",
    "                    graphs[graph][mu0][beta0].append(rho_) ## append the rho to the list\n",
    "                else:\n",
    "                    graphs[graph][mu0][beta0].append(rho_) ## otherwise append the rho to the list\n",
    "    with open(f'./out/{graph}.pickle', 'wb') as handle: ## save the results\n",
    "        pickle.dump(res, handle, protocol=pickle.HIGHEST_PROTOCOL)\n",
    "    return graphs"
   ]
  },
  {
   "cell_type": "code",
   "execution_count": 69,
   "metadata": {},
   "outputs": [
    {
     "name": "stderr",
     "output_type": "stream",
     "text": [
      "| Processing | ER_500_0.2 | Repetition: 0 | Mu: 0.1 | Beta: 0.68 |\t:   0%|          | 0/4 [12:02<?, ?it/s]"
     ]
    }
   ],
   "source": [
    "res = MC_SIS(\n",
    "    graph_dict=GRAPHS,\n",
    "    mu_beta_comb = COMBS,\n",
    "    n_reps = N_REPS,\n",
    "    params = MC_SIS_CONFIG\n",
    "             )"
   ]
  },
  {
   "cell_type": "code",
   "execution_count": 60,
   "metadata": {},
   "outputs": [
    {
     "ename": "NameError",
     "evalue": "name 'res' is not defined",
     "output_type": "error",
     "traceback": [
      "\u001b[0;31m---------------------------------------------------------------------------\u001b[0m",
      "\u001b[0;31mNameError\u001b[0m                                 Traceback (most recent call last)",
      "\u001b[1;32m/Users/Eric/Documents/Uni/Msc/Courses/Sem2/CN/Assignments/Task4/SIS.ipynb Cell 26'\u001b[0m in \u001b[0;36m<cell line: 2>\u001b[0;34m()\u001b[0m\n\u001b[1;32m      <a href='vscode-notebook-cell:/Users/Eric/Documents/Uni/Msc/Courses/Sem2/CN/Assignments/Task4/SIS.ipynb#ch0000044?line=0'>1</a>\u001b[0m \u001b[39mimport\u001b[39;00m \u001b[39mpickle\u001b[39;00m\n\u001b[1;32m      <a href='vscode-notebook-cell:/Users/Eric/Documents/Uni/Msc/Courses/Sem2/CN/Assignments/Task4/SIS.ipynb#ch0000044?line=1'>2</a>\u001b[0m \u001b[39mwith\u001b[39;00m \u001b[39mopen\u001b[39m(\u001b[39m'\u001b[39m\u001b[39mall_graph_results.pickle\u001b[39m\u001b[39m'\u001b[39m, \u001b[39m'\u001b[39m\u001b[39mwb\u001b[39m\u001b[39m'\u001b[39m) \u001b[39mas\u001b[39;00m handle:\n\u001b[0;32m----> <a href='vscode-notebook-cell:/Users/Eric/Documents/Uni/Msc/Courses/Sem2/CN/Assignments/Task4/SIS.ipynb#ch0000044?line=2'>3</a>\u001b[0m     pickle\u001b[39m.\u001b[39mdump(res, handle, protocol\u001b[39m=\u001b[39mpickle\u001b[39m.\u001b[39mHIGHEST_PROTOCOL)\n",
      "\u001b[0;31mNameError\u001b[0m: name 'res' is not defined"
     ]
    }
   ],
   "source": [
    "import pickle\n",
    "with open('./out/all_graph_results.pickle', 'wb') as handle:\n",
    "    pickle.dump(res, handle, protocol=pickle.HIGHEST_PROTOCOL)"
   ]
  },
  {
   "cell_type": "code",
   "execution_count": null,
   "metadata": {},
   "outputs": [],
   "source": [
    "## look at the keysof the dictionary\n",
    "print(res.keys()) ## these should match the networks & have each mu as a key "
   ]
  },
  {
   "cell_type": "code",
   "execution_count": null,
   "metadata": {},
   "outputs": [],
   "source": [
    "## math rho/beta symbol \n",
    "rho = r\"$\\rho$\"\n",
    "beta = r\"$\\beta$\"\n",
    "## plot rho against beta\n",
    "for graph in res.keys():\n",
    "    for mu0 in graph.keys():\n",
    "        rhos = [x for x in res[graph][mu0].values()]\n",
    "        betas = [x for x in res[graph][mu0].keys()]\n",
    "        plt.plot(betas,rhos, label=f\"$\\mu$={mu0}\",marker=\"o\")\n",
    "    ## set the title \n",
    "    ## mathematical symbol for rho \n",
    "    plt.title(f\"Experimental Rho ({rho}) vs Beta ({beta}) - {graph}\")\n",
    "    plt.xlabel(f\"{beta}\")\n",
    "    plt.ylabel(f\"{rho}\")\n",
    "    plt.legend()\n",
    "plt.show()"
   ]
  },
  {
   "cell_type": "code",
   "execution_count": null,
   "metadata": {},
   "outputs": [],
   "source": [
    "## plot rho against beta for each of the keys of the res dictionary\n",
    "N_PLOTS = len(res.keys())\n",
    "N_COLS = 2 ## number of columns\n",
    "N_ROWS = int(np.ceil(N_PLOTS/N_COLS)) ## number of rows "
   ]
  },
  {
   "cell_type": "code",
   "execution_count": null,
   "metadata": {},
   "outputs": [],
   "source": []
  }
 ],
 "metadata": {
  "interpreter": {
   "hash": "ac6858c3dbc49267e902ff986705b591b9d7b57befff84fd7d814fe16c4a8e1f"
  },
  "kernelspec": {
   "display_name": "Python 3.8.5",
   "language": "python",
   "name": "python3"
  },
  "language_info": {
   "codemirror_mode": {
    "name": "ipython",
    "version": 3
   },
   "file_extension": ".py",
   "mimetype": "text/x-python",
   "name": "python",
   "nbconvert_exporter": "python",
   "pygments_lexer": "ipython3",
   "version": "3.8.5"
  },
  "orig_nbformat": 4
 },
 "nbformat": 4,
 "nbformat_minor": 2
}
