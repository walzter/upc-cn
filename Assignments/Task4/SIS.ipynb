{
 "cells": [
  {
   "cell_type": "code",
   "execution_count": 24,
   "metadata": {},
   "outputs": [],
   "source": [
    "import matplotlib.pylab as plt\n",
    "from termcolor import colored"
   ]
  },
  {
   "cell_type": "code",
   "execution_count": 13,
   "metadata": {},
   "outputs": [],
   "source": [
    "## Initial Population \n",
    "N = 1000000\n",
    "N_ITER = 1000\n",
    "## Number of Susceptible people\n",
    "S = N - 1\n",
    "## Number of Infected people \n",
    "I = 1\n",
    "\n",
    "## Parameters \n",
    "\n",
    "## Transmission rate prior to change\n",
    "BETA = 0.3\n",
    "\n",
    "## Recovery rate\n",
    "GAMMA = 0.1\n",
    "\n"
   ]
  },
  {
   "cell_type": "code",
   "execution_count": 55,
   "metadata": {},
   "outputs": [],
   "source": [
    "\n",
    "def sis_infection(susceptible_people:int, ## Susceptible (S)\n",
    "                  infected_people:int,    ## Infected    (I)\n",
    "                  population:int,         ## Population  (N)\n",
    "                  beta:float,             ## Transmission Rate prior to change (beta)\n",
    "                  gamma:float,            ## Recovery Rate (gamma)\n",
    "                  n_iterations:int,       ## Number of iterations\n",
    "                  verbosity:bool=True,     ## Whether to show every 50th iteration the results \n",
    "                  _plot:bool=False) -> list:    ## Whether to plot the final results \n",
    "    \"\"\"\n",
    "    \n",
    "    Calculates the SIS model by the following equation: \n",
    "    \n",
    "    INITIAL CONFIGURATION: \n",
    "    \n",
    "    Population  (N) = 100\n",
    "    Susceptible (S) = N - 1  (100 - 1 = 99)\n",
    "    Infected    (I) = 1\n",
    "    \n",
    "    MODEL: \n",
    "    \n",
    "    For every timeperiod t_{i}, the susceptible and infected populations\n",
    "    will be recalculated using a set recovery rate ($\\gamma$) and a \n",
    "    transmission rate prior to change. \n",
    "    \n",
    "    gamma = 0.2 ## recovery rate \n",
    "    beta = 0.3  ## transmission rate \n",
    "    \n",
    "    S = (S - beta * S * I/N) + gamma * I\n",
    "    S = (I - beta * S * I/N) + gamma * I\n",
    "    \n",
    "    \"\"\"\n",
    "    ## holders \n",
    "    sholder = [None] * population\n",
    "    iholder = [None] * population\n",
    "    ## text \n",
    "    for idx,t in enumerate(range (0, n_iterations)):\n",
    "        ## update the susceptible population \n",
    "        susceptible_people = susceptible_people - (beta * susceptible_people * infected_people / population) + gamma * infected_people\n",
    "        ## update the infected population \n",
    "        infected_people = infected_people + (beta * susceptible_people * infected_people / population) - gamma * infected_people\n",
    "        ## update the holders \n",
    "        sholder[idx] = susceptible_people\n",
    "        iholder[idx] = infected_people\n",
    "        ## some feedback\n",
    "        if verbosity: \n",
    "            if t%50 == 0:\n",
    "                it_txt = f\"| Iteration = {t} | \"\n",
    "                s_txt = f\"Susceptible = {round(susceptible_people,0)} ({susceptible_people/population*100:.2f}%) | \"\n",
    "                i_txt = f\"Infected = {round(infected_people,0)} ({infected_people/population*100:.2f}%)|\"\n",
    "                print(it_txt, colored(s_txt, 'green'), colored(i_txt,'red'))\n",
    "                \n",
    "    if _plot:\n",
    "        ## show the plots \n",
    "        figure = plt.figure()  ## creating the figure \n",
    "        figure.canvas.manager.set_window_title ('SIS model') ## set a title \n",
    "        plt.plot(iholder, label='Infected - I(t)') ## plot the I \n",
    "        plt.plot(sholder, label='Susceptible - S(t)') ## plot the S \n",
    "        plt.legend() ## add legend \n",
    "        plt.ticklabel_format(style='sci', axis='y', scilimits=(0,0)) ## scientificnotation \n",
    "        plt.xlabel('Timepoint (T)') ## labels \n",
    "        plt.ylabel('Percentage of Individuals (N in %)') ## labels \n",
    "        plt.show()\n",
    "    ## return the variables \n",
    "    return sholder, iholder"
   ]
  },
  {
   "cell_type": "code",
   "execution_count": 56,
   "metadata": {},
   "outputs": [],
   "source": [
    "## Initial Population \n",
    "N = 1000000\n",
    "N_ITER = 1000\n",
    "## Number of Susceptible people\n",
    "S = N - 1\n",
    "## Number of Infected people \n",
    "I = 1\n",
    "## Parameters \n",
    "## Transmission rate prior to change\n",
    "BETA = 0.5\n",
    "## Recovery rate\n",
    "GAMMA = 0.2\n",
    "## Verbosity \n",
    "VERBOSITY = True \n",
    "## plotting \n",
    "PLOTTING = True\n",
    "## kwargs\n",
    "config = {\n",
    "        \"susceptible_people\" : S,\n",
    "        \"infected_people\"    : I,\n",
    "        \"population\"         : N,\n",
    "        \"beta\"               : BETA, \n",
    "        \"gamma\"              : GAMMA, \n",
    "        \"n_iterations\"       : N_ITER,\n",
    "        \"verbosity\"          : VERBOSITY,\n",
    "        \"_plot\"              : PLOTTING\n",
    "        }"
   ]
  },
  {
   "cell_type": "code",
   "execution_count": 57,
   "metadata": {},
   "outputs": [
    {
     "name": "stdout",
     "output_type": "stream",
     "text": [
      "| Iteration = 0 |  \u001b[32mSusceptible = 999999.0 (100.00%) | \u001b[0m \u001b[31mInfected = 1.0 (0.00%)|\u001b[0m\n",
      "| Iteration = 50 |  \u001b[32mSusceptible = 673217.0 (67.32%) | \u001b[0m \u001b[31mInfected = 303485.0 (30.35%)|\u001b[0m\n",
      "| Iteration = 100 |  \u001b[32mSusceptible = 400000.0 (40.00%) | \u001b[0m \u001b[31mInfected = 521515.0 (52.15%)|\u001b[0m\n",
      "| Iteration = 150 |  \u001b[32mSusceptible = 400000.0 (40.00%) | \u001b[0m \u001b[31mInfected = 521515.0 (52.15%)|\u001b[0m\n",
      "| Iteration = 200 |  \u001b[32mSusceptible = 400000.0 (40.00%) | \u001b[0m \u001b[31mInfected = 521515.0 (52.15%)|\u001b[0m\n",
      "| Iteration = 250 |  \u001b[32mSusceptible = 400000.0 (40.00%) | \u001b[0m \u001b[31mInfected = 521515.0 (52.15%)|\u001b[0m\n",
      "| Iteration = 300 |  \u001b[32mSusceptible = 400000.0 (40.00%) | \u001b[0m \u001b[31mInfected = 521515.0 (52.15%)|\u001b[0m\n",
      "| Iteration = 350 |  \u001b[32mSusceptible = 400000.0 (40.00%) | \u001b[0m \u001b[31mInfected = 521515.0 (52.15%)|\u001b[0m\n",
      "| Iteration = 400 |  \u001b[32mSusceptible = 400000.0 (40.00%) | \u001b[0m \u001b[31mInfected = 521515.0 (52.15%)|\u001b[0m\n",
      "| Iteration = 450 |  \u001b[32mSusceptible = 400000.0 (40.00%) | \u001b[0m \u001b[31mInfected = 521515.0 (52.15%)|\u001b[0m\n",
      "| Iteration = 500 |  \u001b[32mSusceptible = 400000.0 (40.00%) | \u001b[0m \u001b[31mInfected = 521515.0 (52.15%)|\u001b[0m\n",
      "| Iteration = 550 |  \u001b[32mSusceptible = 400000.0 (40.00%) | \u001b[0m \u001b[31mInfected = 521515.0 (52.15%)|\u001b[0m\n",
      "| Iteration = 600 |  \u001b[32mSusceptible = 400000.0 (40.00%) | \u001b[0m \u001b[31mInfected = 521515.0 (52.15%)|\u001b[0m\n",
      "| Iteration = 650 |  \u001b[32mSusceptible = 400000.0 (40.00%) | \u001b[0m \u001b[31mInfected = 521515.0 (52.15%)|\u001b[0m\n",
      "| Iteration = 700 |  \u001b[32mSusceptible = 400000.0 (40.00%) | \u001b[0m \u001b[31mInfected = 521515.0 (52.15%)|\u001b[0m\n",
      "| Iteration = 750 |  \u001b[32mSusceptible = 400000.0 (40.00%) | \u001b[0m \u001b[31mInfected = 521515.0 (52.15%)|\u001b[0m\n",
      "| Iteration = 800 |  \u001b[32mSusceptible = 400000.0 (40.00%) | \u001b[0m \u001b[31mInfected = 521515.0 (52.15%)|\u001b[0m\n",
      "| Iteration = 850 |  \u001b[32mSusceptible = 400000.0 (40.00%) | \u001b[0m \u001b[31mInfected = 521515.0 (52.15%)|\u001b[0m\n",
      "| Iteration = 900 |  \u001b[32mSusceptible = 400000.0 (40.00%) | \u001b[0m \u001b[31mInfected = 521515.0 (52.15%)|\u001b[0m\n",
      "| Iteration = 950 |  \u001b[32mSusceptible = 400000.0 (40.00%) | \u001b[0m \u001b[31mInfected = 521515.0 (52.15%)|\u001b[0m\n"
     ]
    },
    {
     "data": {
      "image/png": "[encoded data removed]",
      "text/plain": [
       "<Figure size 432x288 with 1 Axes>"
      ]
     },
     "metadata": {
      "needs_background": "light"
     },
     "output_type": "display_data"
    }
   ],
   "source": [
    "sus, inf = sis_infection(**config)"
   ]
  },
  {
   "cell_type": "code",
   "execution_count": null,
   "metadata": {},
   "outputs": [],
   "source": [
    "S, I = sis_infection(susceptible_people:int,\n",
    "                  infected_people:int,\n",
    "                  population:int,\n",
    "                  beta:float,\n",
    "                  gamma:float,\n",
    "                  n_iterations:int,\n",
    "                  verbosity:bool=True,\n",
    "                  _plot:bool=False)"
   ]
  }
 ],
 "metadata": {
  "interpreter": {
   "hash": "ac6858c3dbc49267e902ff986705b591b9d7b57befff84fd7d814fe16c4a8e1f"
  },
  "kernelspec": {
   "display_name": "Python 3.8.5",
   "language": "python",
   "name": "python3"
  },
  "language_info": {
   "codemirror_mode": {
    "name": "ipython",
    "version": 3
   },
   "file_extension": ".py",
   "mimetype": "text/x-python",
   "name": "python",
   "nbconvert_exporter": "python",
   "pygments_lexer": "ipython3",
   "version": "3.8.5"
  },
  "orig_nbformat": 4
 },
 "nbformat": 4,
 "nbformat_minor": 2
}
