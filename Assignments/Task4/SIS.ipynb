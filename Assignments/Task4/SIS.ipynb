{
 "cells": [
  {
   "cell_type": "markdown",
   "metadata": {},
   "source": [
    "# A4. Epidemic spreading on complex networks\n",
    "## Epidemic spreading using the SIS model\n",
    "\n",
    "Monte Carlo simulation of an epidemic spreading dynamics in complex networks, using the SIS model in which each node represents an individual which can be in two possible states: Susceptible (S), i.e., healthy but can get infected; Infected (I), i.e., has the disease and can spread it to its neighbors.\n",
    "\n",
    "We are interested in the calculation of the fraction of infected nodes, ρ, in the stationary state, as a function of the infection probability of the disease β (at least 51 values between β=0 and β=1, Δβ=0.02), for different values of the recovery probability μ (e.g. 0.1, 0.5, 0.9). Try different undirected networks (e.g., Erdös-Rényi, scale-free, real), different sizes (at least 500 nodes), average degrees, exponents, etc. Do not make all the combinations, about 10 plots ρ(β) are enough.\n",
    "\n",
    "Optionally (but mandatory if you want to opt to the maximum grade), compare the ρ(β) result from Monte Carlo simulations with the theoretical prediction provided by the Microscopic Markov Chain Approach (MMCA) model.\n",
    "\n",
    "### The delivery must include:\n",
    "\n",
    "Source code\n",
    "\n",
    "Networks used in Pajek format\n",
    "\n",
    "Results files\n",
    "\n",
    "Document (in PDF) including:\n",
    "\n",
    "Short explanations on how have you done the required work (software, decisions, etc.)\n",
    "Plots, pointing out “all” the parameters of the corresponding simulation.\n",
    "\n",
    "Monte Carlo simulations may require a lot of computing time, thus it is recommended the use of compiled languages. In general, and mainly if you are using interpreted languages (e.g., python, Matlab, octave, R), first make tests with small networks, few time steps, and few repetitions, before making the definitive simulations.\n",
    "\n",
    "Observation: in the original paper on MMCA, the modeled SIS dynamic allows for \"one-step reinfections\", which are not present in our description of the Monte Carlo simulations. Thus, the last term in Eq. (1) of the paper published in Europhys. Lett. must be removed in order that simulation and theoretical model be comparable. For a comparison of dynamics with and without one-step reinfections, please check the paper published in Int. J. Complex Sys. Sci.\n"
   ]
  },
  {
   "cell_type": "code",
   "execution_count": 1,
   "metadata": {},
   "outputs": [],
   "source": [
    "## Imports \n",
    "import igraph as ig\n",
    "import matplotlib.pylab as plt\n",
    "from termcolor import colored\n",
    "import numpy as np \n",
    "import random\n",
    "seed1 = np.random.seed(4234)\n",
    "seed2 = random.seed(4234)"
   ]
  },
  {
   "cell_type": "code",
   "execution_count": 2,
   "metadata": {},
   "outputs": [],
   "source": [
    "## reloading \n",
    "%load_ext autoreload\n",
    "%autoreload 2"
   ]
  },
  {
   "cell_type": "markdown",
   "metadata": {},
   "source": [
    "## Simple SIS Model (NOT FOR THE DELIVERY)"
   ]
  },
  {
   "cell_type": "markdown",
   "metadata": {},
   "source": [
    "### Defining it "
   ]
  },
  {
   "cell_type": "code",
   "execution_count": null,
   "metadata": {},
   "outputs": [],
   "source": [
    "\n",
    "## Implementing a simple SIS model with\n",
    "def sis_infection(susceptible_people:int,       ## Susceptible (S)\n",
    "                  infected_people:int,          ## Infected    (I)\n",
    "                  population:int,               ## Population  (N)\n",
    "                  beta:float,                   ## Transmission Rate prior to change (beta)\n",
    "                  gamma:float,                  ## Recovery Rate (gamma)\n",
    "                  n_iterations:int,             ## Number of iterations\n",
    "                  n_batch:int,                  ## Number of batches\n",
    "                  verbosity:bool=True,          ## Whether to show every 50th iteration the results \n",
    "                  _plot:bool=False) -> list:    ## Whether to plot the final results \n",
    "    \"\"\"\n",
    "    \n",
    "    Calculates the SIS model by the following equation: \n",
    "    \n",
    "    INITIAL CONFIGURATION: \n",
    "    \n",
    "    Population  (N) = 100\n",
    "    Susceptible (S) = N - 1  (100 - 1 = 99)\n",
    "    Infected    (I) = 1\n",
    "    \n",
    "    MODEL: \n",
    "    \n",
    "    For every timeperiod t_{i}, the susceptible and infected populations\n",
    "    will be recalculated using a set recovery rate ($\\gamma$) and a \n",
    "    transmission rate prior to change. \n",
    "    \n",
    "    gamma = 0.2 ## recovery rate \n",
    "    beta = 0.3  ## transmission rate \n",
    "    \n",
    "    S = (S - beta * S * I/N) + gamma * I\n",
    "    S = (I - beta * S * I/N) + gamma * I\n",
    "    \n",
    "    \"\"\"\n",
    "    ## holders \n",
    "    sholder = [None] * population\n",
    "    iholder = [None] * population\n",
    "    ## text \n",
    "    for idx,t in enumerate(range (0, n_iterations)):\n",
    "        ## update the susceptible population \n",
    "        susceptible_people = susceptible_people - (beta * susceptible_people * infected_people / population) + gamma * infected_people\n",
    "        ## update the infected population \n",
    "        infected_people = infected_people + (beta * susceptible_people * infected_people / population) - gamma * infected_people\n",
    "        ## update the holders \n",
    "        sholder[idx] = susceptible_people\n",
    "        iholder[idx] = infected_people\n",
    "        ## some feedback\n",
    "        if verbosity: \n",
    "            if t%n_batch == 0:\n",
    "                it_txt = f\"| Iteration = {t} | \"\n",
    "                s_txt = f\"Susceptible = {round(susceptible_people,0)} ({susceptible_people/population*100:.2f}%) | \"\n",
    "                i_txt = f\"Infected = {round(infected_people,0)} ({infected_people/population*100:.2f}%)|\"\n",
    "                print(it_txt, colored(s_txt, 'green'), colored(i_txt,'red'))\n",
    "                \n",
    "    if _plot:\n",
    "        ## show the plots \n",
    "        figure = plt.figure()  ## creating the figure \n",
    "        figure.canvas.manager.set_window_title ('SIS model') ## set a title \n",
    "        plt.plot(iholder, label='Infected - I(t)') ## plot the I \n",
    "        plt.plot(sholder, label='Susceptible - S(t)') ## plot the S \n",
    "        plt.legend() ## add legend \n",
    "        plt.ticklabel_format(style='sci', axis='y', scilimits=(0,0)) ## scientificnotation \n",
    "        plt.xlabel('Timepoint (t)') ## labels \n",
    "        plt.ylabel('Percentage of Individuals (N in %)') ## labels \n",
    "        plt.show()\n",
    "    ## return the variables \n",
    "    return sholder, iholder"
   ]
  },
  {
   "cell_type": "markdown",
   "metadata": {},
   "source": [
    "### Running it "
   ]
  },
  {
   "cell_type": "code",
   "execution_count": null,
   "metadata": {},
   "outputs": [],
   "source": [
    "## Initial Population \n",
    "N = 1000000\n",
    "N_ITER = 150\n",
    "## Number of Susceptible people\n",
    "S = N - 1\n",
    "## Number of Infected people \n",
    "I = 1\n",
    "## Parameters \n",
    "## Transmission rate prior to change\n",
    "BETA = 0.5\n",
    "## Recovery rate\n",
    "GAMMA = 0.2\n",
    "## number of batches for feedback \n",
    "N_BATCH = 25\n",
    "## Verbosity \n",
    "VERBOSITY = True \n",
    "## plotting \n",
    "PLOTTING = True\n",
    "## kwargs\n",
    "config = {\n",
    "        \"susceptible_people\" : S,\n",
    "        \"infected_people\"    : I,\n",
    "        \"population\"         : N,\n",
    "        \"beta\"               : BETA, \n",
    "        \"gamma\"              : GAMMA, \n",
    "        \"n_iterations\"       : N_ITER,\n",
    "        \"n_batch\"            : N_BATCH,\n",
    "        \"verbosity\"          : VERBOSITY,\n",
    "        \"_plot\"              : PLOTTING\n",
    "        }\n",
    "\n",
    "## running \n",
    "sus, inf = sis_infection(**config)"
   ]
  },
  {
   "cell_type": "markdown",
   "metadata": {},
   "source": [
    "## Task at hand"
   ]
  },
  {
   "cell_type": "markdown",
   "metadata": {},
   "source": [
    "### Steps to do: \n",
    "\n",
    "0. Implement a simple SIS model [DONE]\n",
    "1. Perform the SIS modelling on igraph or graph-tools \n",
    "2. Implement the Monte Carlo Method for the simulation \n",
    "3. Evaluate and average out the results "
   ]
  },
  {
   "cell_type": "markdown",
   "metadata": {},
   "source": [
    "#### Read Bibliography Files"
   ]
  },
  {
   "cell_type": "code",
   "execution_count": null,
   "metadata": {},
   "outputs": [],
   "source": [
    "import glob\n",
    "import pybtex\n",
    "from pybtex.database.input import bibtex\n",
    "def load_parse_bib(bib_path:str) -> pybtex.database.BibliographyData:\n",
    "    \"\"\"\n",
    "    Loads the bib files in the directory and returns the given data format\n",
    "    for the bibliography files. \n",
    "    \"\"\"\n",
    "\n",
    "    ## start the parser \n",
    "    parser = bibtex.Parser()\n",
    "    ## get the bib files \n",
    "    bib_files = glob.glob(bib_path+\"/*.bib\")\n",
    "    ## read the files\n",
    "    bib_data = [parser.parse_file(x) for x in bib_files]\n",
    "    ## since they are all parsed, we can return the first element \n",
    "    ret_bib_data = bib_data[0]\n",
    "    return ret_bib_data\n"
   ]
  },
  {
   "cell_type": "code",
   "execution_count": null,
   "metadata": {},
   "outputs": [],
   "source": [
    "from collections import defaultdict\n",
    "def get_bib_data(path_to_file:str, verbose:bool) -> dict:\n",
    "    \"\"\"\n",
    "    Prints the following information about the citation:\n",
    "    Title, Journal, Year, Author(s)\n",
    "    \"\"\"\n",
    "    bib_data = load_parse_bib(bib_path = path_to_file)\n",
    "    holder = defaultdict(dict)\n",
    "    ## article\n",
    "    papers = list(bib_data.entries.keys())\n",
    "    ## info \n",
    "    for idx,ids in enumerate(papers):\n",
    "        c_data = bib_data.entries[ids]\n",
    "        title = c_data.fields['title']\n",
    "        journal = c_data.fields['journal']\n",
    "        year = c_data.fields['year']\n",
    "        ## authors \n",
    "        authors = [\" \".join(x.first_names + x.last_names)  for x in c_data.persons['author']][:3]\n",
    "        ## joined on a string \n",
    "        ret_authors = ' '.join((x for x in authors))\n",
    "        ## update tracker\n",
    "        holder[idx]['title'] = title\n",
    "        holder[idx]['journal'] = journal\n",
    "        holder[idx]['year'] = year\n",
    "        holder[idx]['author'] = authors[0]\n",
    "        if verbose:\n",
    "            print(colored(f'Source {idx+1}','green'))\n",
    "            print(colored(\"Title:\",attrs=['bold']),f\"{title}\")\n",
    "            print(colored(\"Journal:\",attrs=['bold']),f\"{journal}\")\n",
    "            print(colored(\"Year:\",attrs=['bold']),f\"{year}\")\n",
    "            print(colored(\"Authors:\",attrs=['bold']),f\"{ret_authors}\\n\")\n",
    "    return holder"
   ]
  },
  {
   "cell_type": "code",
   "execution_count": null,
   "metadata": {},
   "outputs": [],
   "source": [
    "## where the citation (.bib) files are located\n",
    "CITATIONS = \"./citations\"\n",
    "VERBOSITY = True\n",
    "## returns a dictionary \n",
    "info = get_bib_data(path_to_file=CITATIONS,verbose=VERBOSITY)"
   ]
  },
  {
   "cell_type": "markdown",
   "metadata": {},
   "source": [
    "### SIS Model\n",
    "\n",
    "## Introduction: Epidemiological Models\n",
    "\n",
    "Epidemic modelling is a field which has come under a lot of attention ever since the onset of COVID-19, at a much larger scale than before. In order to depict the spread of the disease, it is necessary \n",
    "\n",
    "The Susceptible (S) Infected (I) Susceptible (S) (SIS) Model is a used"
   ]
  },
  {
   "cell_type": "markdown",
   "metadata": {},
   "source": [
    "##### SIS SETUP PARAMETERS"
   ]
  },
  {
   "cell_type": "code",
   "execution_count": 7,
   "metadata": {},
   "outputs": [],
   "source": [
    "VERBOSITY = False ## Verbosity\n",
    "SEED = 4234 ## seed for the random number generator\n",
    "## ------- ------- ------- -------\n",
    "## -------  SIS PARAMETERS -------\n",
    "## ------- ------- ------- -------\n",
    "\n",
    "P = 0.2                       ## initial infected population \n",
    "MU = 0.1                      ## mu: spontaneous recovery probability \n",
    "BETA = 0.02                   ## beta: infection probability, when S in contact with I (Transmission Rate)\n",
    "N = 500                       ## we will also need an initial population\n",
    "T_MAX = 1000                  ## time step\n",
    "T_TRANS = 900                 ## transition \n",
    "STEPS4CALC = T_MAX - T_TRANS  ## number of steps to calculate the average\n",
    "\n",
    "## ------- ------- ------- -------\n",
    "## -------  SIS DICTIONARY -------\n",
    "## ------- ------- ------- -------\n",
    "SIS_CONFIG = {\n",
    "            \"initial_population\":N,\n",
    "            \"initial_infected_population\":P,\n",
    "            \"mu\":MU,\n",
    "            \"beta\":BETA,\n",
    "            \"n_iter\":T_MAX,\n",
    "            \"seed\":SEED,\n",
    "            \"verbose\":VERBOSITY,\n",
    "            }"
   ]
  },
  {
   "cell_type": "code",
   "execution_count": 4,
   "metadata": {},
   "outputs": [],
   "source": [
    "## ------- ------- ------- -------\n",
    "## -------  MC PARAMETERS  -------\n",
    "## ------- ------- ------- -------\n",
    "\n",
    "T_MAX = 1000 ## time step\n",
    "T_TRANS = 900 ## transition \n",
    "STEPS4CALC = T_MAX - T_TRANS ## number of steps to calculate the average\n",
    "\n",
    "## ------- ------- ------- -------\n",
    "## -------  NC DICTIONARY  -------\n",
    "## ------- ------- ------- -------\n",
    "SIS_MC_CONFIG = {\n",
    "            \"initial_population\":N,\n",
    "            \"initial_infected_population\":P,\n",
    "            \"mu\":MU,\n",
    "            \"beta\":BETA,\n",
    "            \"timesteps\":T_MAX,\n",
    "            \"transition\":T_TRANS,\n",
    "            \"verbose\":VERBOSITY,\n",
    "            }"
   ]
  },
  {
   "cell_type": "markdown",
   "metadata": {},
   "source": [
    "### Running the SIS-Numpy Based "
   ]
  },
  {
   "cell_type": "code",
   "execution_count": 5,
   "metadata": {},
   "outputs": [],
   "source": [
    "## visual styles for plotting igraph graphs \n",
    "visual_style = {}\n",
    "visual_style[\"edge_width\"] = 0.01 ## EDGE WIDTH\n",
    "visual_style[\"vertex_size\"] = 4 ## SIZE OF THE NODEs\n",
    "visual_style[\"bbox\"] = (200,200) ## SIZE OF GRAPH (MAINTAINS DPI)\n",
    "visual_style[\"margin\"] = 10      ## MARGIN of the graph"
   ]
  },
  {
   "cell_type": "code",
   "execution_count": 8,
   "metadata": {},
   "outputs": [
    {
     "data": {
      "text/plain": [
       "0.8923311111111111"
      ]
     },
     "execution_count": 8,
     "metadata": {},
     "output_type": "execute_result"
    }
   ],
   "source": [
    "from src.SIS import SIS ## import the module \n",
    "import gc  ## trash collect \n",
    "gc.collect()\n",
    "## instantiate the SIS model \n",
    "sis = SIS(**SIS_CONFIG) ## pass the config dictionary (use ** to unpack the dictionary)\n",
    "## start the random network \n",
    "#g = sis._start_network()\n",
    "## \n",
    "sis._run_simulation()"
   ]
  },
  {
   "cell_type": "code",
   "execution_count": 13,
   "metadata": {},
   "outputs": [
    {
     "name": "stdout",
     "output_type": "stream",
     "text": [
      "Number of Mu values: 3 | Number of Beta values: 51 | Total combinations: 153\n"
     ]
    }
   ],
   "source": [
    "import itertools\n",
    "mus = [0.1, 0.5, 0.9] ## generate the mu list \n",
    "betas = np.arange(0,1.02,0.02) ## generate the beta list \n",
    "## make a combination of all the mus and betas\n",
    "combs = list(itertools.product(mus,betas))\n",
    "print(f\"Number of Mu values: {len(mus)} | Number of Beta values: {len(betas)} | Total combinations: {len(combs)}\")"
   ]
  },
  {
   "cell_type": "code",
   "execution_count": null,
   "metadata": {},
   "outputs": [],
   "source": [
    "## Make the Monte-Carlo Simulation\n",
    "def SIS_MC(ref_network, N_rep, rho_0, mu_list, beta_list, T_max, T_trans):\n",
    "    # Create dictionary of results\n",
    "    global_results = {}\n",
    "    for mu in mu_list:\n",
    "        print(mu)\n",
    "        global_results[mu] = {}\n",
    "        for beta in beta_list:\n",
    "            print(beta)\n",
    "            rho_avg_list = []\n",
    "            inputs = [(ref_network, beta, mu, rho_0, T_max, T_trans) for i in range(N_rep)]\n",
    "            with multiprocessing.Pool(8) as p:\n",
    "                rho_avg = p.map(epidemic_sim, inputs)\n",
    "                rho_avg_list.append(rho_avg)\n",
    "            global_results[mu][beta] = np.mean(rho_avg_list)"
   ]
  },
  {
   "cell_type": "code",
   "execution_count": 26,
   "metadata": {},
   "outputs": [],
   "source": [
    "import time \n",
    "def MC_SIS(mu_beta_comb:list,n_reps:int):\n",
    "    ## save all the results \n",
    "    all_results = dict()\n",
    "    ## iterate over the list of mus\n",
    "    for i in range(n_reps):\n",
    "        for mu0, beta0 in mu_beta_comb:\n",
    "            SIS_CONFIG['mu'] = mu0      ## set the mu to the config file \n",
    "            SIS_CONFIG['beta'] = beta0  ## set the beta to the config file\n",
    "            ## instantiate the model\n",
    "            gc.collect()\n",
    "            ## instantiate the SIS model\n",
    "            sis = SIS(**SIS_CONFIG) ## pass the config dictionary (use ** to unpack the dictionary)\n",
    "            ## start the random network \n",
    "            tic = time.time()\n",
    "            rho_ = sis._run_simulation()\n",
    "            toc = time.time()\n",
    "            avg_rho = []\n",
    "            ## get the inputs \n",
    "            avg_rho.append(rho_)\n",
    "            all_results[mu0] = {}\n",
    "            all_results[mu0][beta0] = np.mean(avg_rho)\n",
    "        print(f\"iteration: {i} | mu: {mu0} | beta: {beta0} | rho: {rho_:.2f} | time: {toc-tic:.2f}\")"
   ]
  },
  {
   "cell_type": "code",
   "execution_count": 27,
   "metadata": {},
   "outputs": [
    {
     "ename": "KeyboardInterrupt",
     "evalue": "",
     "output_type": "error",
     "traceback": [
      "\u001b[0;31m---------------------------------------------------------------------------\u001b[0m",
      "\u001b[0;31mKeyboardInterrupt\u001b[0m                         Traceback (most recent call last)",
      "\u001b[1;32m/Users/Eric/Documents/Uni/Msc/Courses/Sem2/CN/Assignments/Task4/SIS.ipynb Cell 25'\u001b[0m in \u001b[0;36m<cell line: 1>\u001b[0;34m()\u001b[0m\n\u001b[0;32m----> <a href='vscode-notebook-cell:/Users/Eric/Documents/Uni/Msc/Courses/Sem2/CN/Assignments/Task4/SIS.ipynb#ch0000050?line=0'>1</a>\u001b[0m MC_SIS(combs,\u001b[39m50\u001b[39;49m)\n",
      "\u001b[1;32m/Users/Eric/Documents/Uni/Msc/Courses/Sem2/CN/Assignments/Task4/SIS.ipynb Cell 24'\u001b[0m in \u001b[0;36mMC_SIS\u001b[0;34m(mu_beta_comb, n_reps)\u001b[0m\n\u001b[1;32m     <a href='vscode-notebook-cell:/Users/Eric/Documents/Uni/Msc/Courses/Sem2/CN/Assignments/Task4/SIS.ipynb#ch0000033?line=13'>14</a>\u001b[0m \u001b[39m## start the random network \u001b[39;00m\n\u001b[1;32m     <a href='vscode-notebook-cell:/Users/Eric/Documents/Uni/Msc/Courses/Sem2/CN/Assignments/Task4/SIS.ipynb#ch0000033?line=14'>15</a>\u001b[0m tic \u001b[39m=\u001b[39m time\u001b[39m.\u001b[39mtime()\n\u001b[0;32m---> <a href='vscode-notebook-cell:/Users/Eric/Documents/Uni/Msc/Courses/Sem2/CN/Assignments/Task4/SIS.ipynb#ch0000033?line=15'>16</a>\u001b[0m rho_ \u001b[39m=\u001b[39m sis\u001b[39m.\u001b[39;49m_run_simulation()\n\u001b[1;32m     <a href='vscode-notebook-cell:/Users/Eric/Documents/Uni/Msc/Courses/Sem2/CN/Assignments/Task4/SIS.ipynb#ch0000033?line=16'>17</a>\u001b[0m toc \u001b[39m=\u001b[39m time\u001b[39m.\u001b[39mtime()\n\u001b[1;32m     <a href='vscode-notebook-cell:/Users/Eric/Documents/Uni/Msc/Courses/Sem2/CN/Assignments/Task4/SIS.ipynb#ch0000033?line=17'>18</a>\u001b[0m avg_rho \u001b[39m=\u001b[39m []\n",
      "File \u001b[0;32m~/Documents/Uni/Msc/Courses/Sem2/CN/Assignments/Task4/src/SIS.py:155\u001b[0m, in \u001b[0;36mSIS._run_simulation\u001b[0;34m(self)\u001b[0m\n\u001b[1;32m    <a href='file:///Users/Eric/Documents/Uni/Msc/Courses/Sem2/CN/Assignments/Task4/src/SIS.py?line=151'>152</a>\u001b[0m inf2sus_idx \u001b[39m=\u001b[39m np\u001b[39m.\u001b[39marray([x\u001b[39m.\u001b[39mindex \u001b[39mfor\u001b[39;00m x \u001b[39min\u001b[39;00m inf2sus]) \u001b[39m## get their index, because the above is a list of ig.Vertex objects\u001b[39;00m\n\u001b[1;32m    <a href='file:///Users/Eric/Documents/Uni/Msc/Courses/Sem2/CN/Assignments/Task4/src/SIS.py?line=153'>154</a>\u001b[0m \u001b[39m## susceptible to be infected \u001b[39;00m\n\u001b[0;32m--> <a href='file:///Users/Eric/Documents/Uni/Msc/Courses/Sem2/CN/Assignments/Task4/src/SIS.py?line=154'>155</a>\u001b[0m sus2inf \u001b[39m=\u001b[39m \u001b[39mself\u001b[39;49m\u001b[39m.\u001b[39;49m_get_infected_neighbors(sus, \u001b[39mself\u001b[39;49m\u001b[39m.\u001b[39;49mbeta) \u001b[39m## get the infected neighbors of the susceptible nodes ## more detail in the function itself\u001b[39;00m\n\u001b[1;32m    <a href='file:///Users/Eric/Documents/Uni/Msc/Courses/Sem2/CN/Assignments/Task4/src/SIS.py?line=155'>156</a>\u001b[0m sus2inf_idx \u001b[39m=\u001b[39m np\u001b[39m.\u001b[39marray([x\u001b[39m.\u001b[39mindex \u001b[39mfor\u001b[39;00m x \u001b[39min\u001b[39;00m sus2inf]) \u001b[39m## getting the index \u001b[39;00m\n\u001b[1;32m    <a href='file:///Users/Eric/Documents/Uni/Msc/Courses/Sem2/CN/Assignments/Task4/src/SIS.py?line=157'>158</a>\u001b[0m \u001b[39m## now we update the nodes\u001b[39;00m\n\u001b[1;32m    <a href='file:///Users/Eric/Documents/Uni/Msc/Courses/Sem2/CN/Assignments/Task4/src/SIS.py?line=158'>159</a>\u001b[0m \u001b[39m## update the infected nodes: inf2sus: I -> S\u001b[39;00m\n",
      "File \u001b[0;32m~/Documents/Uni/Msc/Courses/Sem2/CN/Assignments/Task4/src/SIS.py:68\u001b[0m, in \u001b[0;36mSIS._get_infected_neighbors\u001b[0;34m(node_list, beta)\u001b[0m\n\u001b[1;32m     <a href='file:///Users/Eric/Documents/Uni/Msc/Courses/Sem2/CN/Assignments/Task4/src/SIS.py?line=65'>66</a>\u001b[0m infected_neighbors \u001b[39m=\u001b[39m []\n\u001b[1;32m     <a href='file:///Users/Eric/Documents/Uni/Msc/Courses/Sem2/CN/Assignments/Task4/src/SIS.py?line=66'>67</a>\u001b[0m \u001b[39mfor\u001b[39;00m node \u001b[39min\u001b[39;00m node_list:\n\u001b[0;32m---> <a href='file:///Users/Eric/Documents/Uni/Msc/Courses/Sem2/CN/Assignments/Task4/src/SIS.py?line=67'>68</a>\u001b[0m     neighbors \u001b[39m=\u001b[39m [x \u001b[39mfor\u001b[39;00m x \u001b[39min\u001b[39;00m node\u001b[39m.\u001b[39mneighbors() \u001b[39mif\u001b[39;00m x[\u001b[39m\"\u001b[39m\u001b[39mstatus\u001b[39m\u001b[39m\"\u001b[39m] \u001b[39m==\u001b[39m \u001b[39m\"\u001b[39m\u001b[39mI\u001b[39m\u001b[39m\"\u001b[39m]\n\u001b[1;32m     <a href='file:///Users/Eric/Documents/Uni/Msc/Courses/Sem2/CN/Assignments/Task4/src/SIS.py?line=68'>69</a>\u001b[0m     \u001b[39mfor\u001b[39;00m _ \u001b[39min\u001b[39;00m neighbors:\n\u001b[1;32m     <a href='file:///Users/Eric/Documents/Uni/Msc/Courses/Sem2/CN/Assignments/Task4/src/SIS.py?line=69'>70</a>\u001b[0m         possible_infection \u001b[39m=\u001b[39m np\u001b[39m.\u001b[39mrandom\u001b[39m.\u001b[39muniform(\u001b[39m0\u001b[39m,\u001b[39m1\u001b[39m)\n",
      "File \u001b[0;32m~/Documents/Uni/Msc/Courses/Sem2/CN/Assignments/Task4/src/SIS.py:68\u001b[0m, in \u001b[0;36m<listcomp>\u001b[0;34m(.0)\u001b[0m\n\u001b[1;32m     <a href='file:///Users/Eric/Documents/Uni/Msc/Courses/Sem2/CN/Assignments/Task4/src/SIS.py?line=65'>66</a>\u001b[0m infected_neighbors \u001b[39m=\u001b[39m []\n\u001b[1;32m     <a href='file:///Users/Eric/Documents/Uni/Msc/Courses/Sem2/CN/Assignments/Task4/src/SIS.py?line=66'>67</a>\u001b[0m \u001b[39mfor\u001b[39;00m node \u001b[39min\u001b[39;00m node_list:\n\u001b[0;32m---> <a href='file:///Users/Eric/Documents/Uni/Msc/Courses/Sem2/CN/Assignments/Task4/src/SIS.py?line=67'>68</a>\u001b[0m     neighbors \u001b[39m=\u001b[39m [x \u001b[39mfor\u001b[39;00m x \u001b[39min\u001b[39;00m node\u001b[39m.\u001b[39mneighbors() \u001b[39mif\u001b[39;00m x[\u001b[39m\"\u001b[39;49m\u001b[39mstatus\u001b[39;49m\u001b[39m\"\u001b[39;49m] \u001b[39m==\u001b[39;49m \u001b[39m\"\u001b[39;49m\u001b[39mI\u001b[39;49m\u001b[39m\"\u001b[39;49m]\n\u001b[1;32m     <a href='file:///Users/Eric/Documents/Uni/Msc/Courses/Sem2/CN/Assignments/Task4/src/SIS.py?line=68'>69</a>\u001b[0m     \u001b[39mfor\u001b[39;00m _ \u001b[39min\u001b[39;00m neighbors:\n\u001b[1;32m     <a href='file:///Users/Eric/Documents/Uni/Msc/Courses/Sem2/CN/Assignments/Task4/src/SIS.py?line=69'>70</a>\u001b[0m         possible_infection \u001b[39m=\u001b[39m np\u001b[39m.\u001b[39mrandom\u001b[39m.\u001b[39muniform(\u001b[39m0\u001b[39m,\u001b[39m1\u001b[39m)\n",
      "\u001b[0;31mKeyboardInterrupt\u001b[0m: "
     ]
    }
   ],
   "source": [
    "MC_SIS(combs,50)"
   ]
  },
  {
   "cell_type": "code",
   "execution_count": null,
   "metadata": {},
   "outputs": [],
   "source": []
  }
 ],
 "metadata": {
  "interpreter": {
   "hash": "ac6858c3dbc49267e902ff986705b591b9d7b57befff84fd7d814fe16c4a8e1f"
  },
  "kernelspec": {
   "display_name": "Python 3.8.5",
   "language": "python",
   "name": "python3"
  },
  "language_info": {
   "codemirror_mode": {
    "name": "ipython",
    "version": 3
   },
   "file_extension": ".py",
   "mimetype": "text/x-python",
   "name": "python",
   "nbconvert_exporter": "python",
   "pygments_lexer": "ipython3",
   "version": "3.8.2"
  },
  "orig_nbformat": 4
 },
 "nbformat": 4,
 "nbformat_minor": 2
}
