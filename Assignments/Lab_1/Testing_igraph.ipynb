{
 "cells": [
  {
   "cell_type": "code",
   "execution_count": 1,
   "metadata": {},
   "outputs": [],
   "source": [
    "## file systems\n",
    "from glob import glob\n",
    "## importing necesary libraries \n",
    "import igraph\n",
    "## plot\n",
    "import matplotlib.pyplot as plt\n",
    "import numpy as np\n",
    "import pandas as pd\n",
    "\n",
    "# Code\n",
    "from pyfiles.numerical_descriptor import NumericalNetworkDescriptor\n",
    "from pyfiles.utils import make_df_time, join_csvs"
   ]
  },
  {
   "cell_type": "code",
   "execution_count": null,
   "metadata": {},
   "outputs": [],
   "source": [
    "# all the Networks\n",
    "toy_graphs = 'A1-networks/toy'\n",
    "real_graphs = 'A1-networks/real'\n",
    "model_graphs = 'A1-networks/model'"
   ]
  },
  {
   "cell_type": "code",
   "execution_count": null,
   "metadata": {},
   "outputs": [],
   "source": [
    "df_toy = make_df_time(toy_graphs)\n",
    "df_toy.to_csv('res/toy_graphs.csv')"
   ]
  },
  {
   "cell_type": "code",
   "execution_count": null,
   "metadata": {},
   "outputs": [],
   "source": [
    "df_real = make_df_time(real_graphs)\n",
    "df_real.to_csv('res/real_graphs.csv')"
   ]
  },
  {
   "cell_type": "code",
   "execution_count": null,
   "metadata": {},
   "outputs": [],
   "source": [
    "df_model = make_df_time(model_graphs)\n",
    "df_model.to_csv('res/model_graphs.csv')"
   ]
  },
  {
   "cell_type": "code",
   "execution_count": 3,
   "metadata": {},
   "outputs": [],
   "source": [
    "# joining the csvs \n",
    "df = join_csvs('res')"
   ]
  },
  {
   "cell_type": "code",
   "execution_count": 4,
   "metadata": {},
   "outputs": [
    {
     "data": {
      "image/png": "[encoded data removed]",
      "text/plain": [
       "<Figure size 432x288 with 1 Axes>"
      ]
     },
     "metadata": {
      "needs_background": "light"
     },
     "output_type": "display_data"
    }
   ],
   "source": [
    "df = pd.read_csv('res/combined_data.csv')\n",
    "df = df.drop('Unnamed: 0', axis=1)\n",
    "df.groupby('Nodes')['Time'].mean().plot(title='Graph 1. Time vs. Nodes',\n",
    "                                        ylabel='Time [s]',\n",
    "                                        xlabel='Number of Nodes')\n",
    "plt.show()"
   ]
  },
  {
   "cell_type": "code",
   "execution_count": null,
   "metadata": {},
   "outputs": [],
   "source": [
    "## getting all the toy networks \n",
    "files = glob('A1-networks/toy/*.net')\n",
    "\n",
    "## using the 0th as a sample: rb25.net\n",
    "sample = files[0]\n",
    "\n",
    "# reading a .net file - pajek format \n",
    "g = igraph.read(sample, format='pajek')\n",
    "\n",
    "# directed or undirected graph?\n",
    "print(g.is_directed())\n",
    "\n",
    "# IGRAPH, followed by a four-character long code\n",
    "# the number of vertices\n",
    "# the number of edges\n",
    "# two dashes (–) and the name of the graph\n",
    "print(igraph.summary(g))\n",
    "# we can see that we have 25 Vertices and 66 Edges \n",
    "\n",
    "# lets look at all the vertices in the graph \n",
    "vertices_list = g.vs.indices\n",
    "\n",
    "# check that the length is the same as the one in the summary \n",
    "assert len(vertices_list) == 25\n",
    "# sanity \n",
    "print(f\"The vertices are the same as in the summary method ({len(vertices_list)})\")\n",
    "\n",
    "# we can also get the list of all edges \n",
    "edge_list = g.get_edgelist()\n",
    "\n",
    "# we can also confirm that we have 66 edges in our graph \n",
    "assert len(edge_list) == 66\n",
    "# verbosity \n",
    "print(f\"The edges are the same as in the summary method ({len(edge_list)})\")\n",
    "\n",
    "\n",
    "# we can also get the degree of the graph \n",
    "# the number of edges adjacent to it \n",
    "# since this is an undirected graph \n",
    "# we don't need to specify \"mode='in'\" or \"mode = 'out\"\n",
    "print(g.degree())\n",
    "\n",
    "# plotting ## Uncomment below to plot\n",
    "#out_name = 'rb25.eps'\n",
    "#igraph.plot(g) # to save to specific 'out_name', use this: igraph.plot(g, out_name)"
   ]
  },
  {
   "cell_type": "code",
   "execution_count": null,
   "metadata": {},
   "outputs": [],
   "source": [
    "# some statistics\n",
    "\n",
    "## Edges \n",
    "num_edges = g.ecount()\n",
    "\n",
    "## Vertex or Nodes\n",
    "num_vert = g.vcount() # Vertex == Nodes \n",
    "\n",
    "## density\n",
    "g_dense = g.density()\n",
    "#graph_dens = 2*num_edges / ((num_vert) * (num_vert-1)) # manual method\n",
    "\n",
    "## Average Path Length\n",
    "avg_path_len = g.average_path_length()\n",
    "# check \n",
    "assert sum(g.degree()) / g.vcount() == np.mean(g.degree())\n",
    "\n",
    "## Average Shortest Paths\n",
    "sps = np.mean(g.shortest_paths())\n",
    "\n",
    "## Assortativity \n",
    "ast = g.assortativity_degree()\n",
    "\n",
    "## Diameter \n",
    "diam = g.diameter()\n",
    "\n",
    "## Degrees \n",
    "# all degrees \n",
    "degrees = g.degree()\n",
    "# minimum degree \n",
    "min_degree = np.min(degrees)\n",
    "# max degree\n",
    "max_degree = np.max(degrees)\n",
    "# Avg degree -> sum(Degrees) / Nodes\n",
    "avg_degree = np.mean(degrees)\n",
    "\n",
    "# Sanity\n",
    "print(f\"The number of vertices/nodes is: {num_vert}\")\n",
    "print(f\"The number of edges is: {num_edges}\")\n",
    "print(f\"The density of the graph is: {g_dense}\")\n",
    "print(f\"The average path length is: {avg_path_len:.4f}\")\n",
    "print(f\"The graphs' assortativity is: {ast:.4f}\")\n",
    "print(f\"The graphs diameter is: {diam}\")\n",
    "# degrees\n",
    "print(f\"The minimum degree is: {min_degree}\")\n",
    "print(f\"The average degree is: {avg_degree}\")\n",
    "print(f\"The maximum degree is: {max_degree}\")"
   ]
  },
  {
   "cell_type": "code",
   "execution_count": null,
   "metadata": {},
   "outputs": [],
   "source": [
    "# Which one to chose?\n",
    "# this one is approx 50% less than the ones below? (0.5 vs 0.9)\n",
    "print(g.transitivity_undirected())\n",
    "# these two give the same result \n",
    "print(g.transitivity_avglocal_undirected())\n",
    "print(np.mean(g.transitivity_local_undirected()))"
   ]
  },
  {
   "cell_type": "code",
   "execution_count": null,
   "metadata": {},
   "outputs": [],
   "source": [
    "## Other Commands ##\n",
    "\n",
    "## Detailed Summary of the Graph\n",
    "#print(g.summary(verbosity=1))\n",
    "\n",
    "## Count of all the Vertices \n",
    "#print(g.vcount())\n",
    "\n",
    "## Count all the edges \n",
    "#print(g.ecount())\n",
    "\n",
    "## Adjacency Matrix \n",
    "# print(g.get_adjacency())\n",
    "\n",
    "## entire edge list \n",
    "# print(g.get_edgelist())\n",
    "\n",
    "## Adjacency List \n",
    "#g.get_adjlist()"
   ]
  }
 ],
 "metadata": {
  "interpreter": {
   "hash": "ac6858c3dbc49267e902ff986705b591b9d7b57befff84fd7d814fe16c4a8e1f"
  },
  "kernelspec": {
   "display_name": "Python 3.8.5 ('ci_covid')",
   "language": "python",
   "name": "python3"
  },
  "language_info": {
   "codemirror_mode": {
    "name": "ipython",
    "version": 3
   },
   "file_extension": ".py",
   "mimetype": "text/x-python",
   "name": "python",
   "nbconvert_exporter": "python",
   "pygments_lexer": "ipython3",
   "version": "3.8.5"
  },
  "orig_nbformat": 4
 },
 "nbformat": 4,
 "nbformat_minor": 2
}
