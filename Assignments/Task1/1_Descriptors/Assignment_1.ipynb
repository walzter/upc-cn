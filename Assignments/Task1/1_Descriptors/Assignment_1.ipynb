{
 "cells": [
  {
   "cell_type": "markdown",
   "metadata": {},
   "source": [
    "# Experiments"
   ]
  },
  {
   "cell_type": "code",
   "execution_count": 1,
   "metadata": {},
   "outputs": [],
   "source": [
    "## reset defaults \n",
    "import matplotlib as mpl\n",
    "mpl.rcParams.update(mpl.rcParamsDefault)\n",
    "\n",
    "## imports \n",
    "from utils.utils import extract_zip, read_net_files\n",
    "from utils.utils import extract_data_and_save\n",
    "from utils.utils import extract_airport_descriptors\n",
    "from utils.utils import make_histograms_pdf\n",
    "import gc "
   ]
  },
  {
   "cell_type": "code",
   "execution_count": 2,
   "metadata": {},
   "outputs": [
    {
     "name": "stdout",
     "output_type": "stream",
     "text": [
      "Structural descriptors of complex networks\n",
      "Autors: Edison Bejarano - Eric Walzthöny\n"
     ]
    }
   ],
   "source": [
    "print(\"\"\"Structural descriptors of complex networks\"\"\")\n",
    "print(\"\"\"Autors: Edison Bejarano - Eric Walzthöny\"\"\")"
   ]
  },
  {
   "cell_type": "markdown",
   "metadata": {},
   "source": [
    "### Issues 1: Average Degree"
   ]
  },
  {
   "cell_type": "code",
   "execution_count": null,
   "metadata": {},
   "outputs": [],
   "source": [
    "\"\"\"\n",
    "Checking el average degree \n",
    "tu formula de:\n",
    "\n",
    "    average_degree = \"{:.4f}\".format(\n",
    "                                    float(edges / nodes)\n",
    "                                    )  # Total Edges/Total Nodes=Average Degree\n",
    "\n",
    "Esta mal, porque solo toma en cuenta el numero total de nodos\n",
    "(asume que cada nodo tiene una sola conexion), y no las conexiones de cada nodo. \n",
    "\n",
    "Por ejemplo, el nodo, O2, abajo:     \n",
    "    O1-O2-O3\n",
    "       |\n",
    "       O4\n",
    "Hay 4 nodos, pero no todos tienen el degree igual\n",
    "Nodo 01, 03, 04 - Degree: 1 (una conexion)\n",
    "Nodo 02 - Degree: 3 (tres conexiones)\n",
    "\n",
    "Fijate en la implementacion de abajo de \"average_degree_graph\", que se copio del libro.\n",
    "\n",
    "\n",
    "\"\"\"\n",
    "\n",
    "import numpy as np\n",
    "import igraph\n",
    "from igraph import mean\n",
    "\n",
    "\n",
    "## loading a sample network\n",
    "g = net_files['toy']['rb25.net'][0]\n",
    "\n",
    "## Edges & Vertices (Nodes)\n",
    "edges = g.ecount()\n",
    "vertex = g.vcount()\n",
    "\n",
    "## Checking Degrees of the network\n",
    "## Tu implementacion \n",
    "edison_average_degree = edges / vertex  # Total Edges / Total Nodes =Average Degree\n",
    "# Manual Method 1\n",
    "avg_degree_calculated = sum(g.degree()) / vertex\n",
    "## Manual Method 2\n",
    "igraph_avg_degree_calculated = round(mean(g.degree()), 3)\n",
    "## Manual Method 3\n",
    "def average_degree_graph(graph:igraph.Graph) -> float:\n",
    "    \"\"\"\n",
    "    manually calculates the degree of each vertex\n",
    "    \n",
    "    from the textbook (CN, page 127):\n",
    "    \n",
    "    Average Degree = 1/n * sum(degree of vertex in g)\n",
    "    \n",
    "    \"\"\"\n",
    "    ## Degree (Connections) for each node in the graph \n",
    "    list_of_degrees = [x.degree() for x in graph.vs()]\n",
    "    ## Sum of all the degrees (Connections)\n",
    "    degree_sum = sum(list_of_degrees)\n",
    "    ## Sum_Degrees / (total number of nodes)\n",
    "    average_degree = degree_sum / graph.vcount()\n",
    "    return average_degree\n",
    "\n",
    "## Comparing the results \n",
    "print(edges, vertex)\n",
    "print(edison_average_degree, avg_degree_calculated, igraph_avg_degree_calculated, average_degree_graph(g))"
   ]
  },
  {
   "cell_type": "markdown",
   "metadata": {},
   "source": [
    "### Issues 2: Transitivity / Average Clustering coefficient"
   ]
  },
  {
   "cell_type": "code",
   "execution_count": null,
   "metadata": {},
   "outputs": [],
   "source": [
    "## Chapter 7 complex networks !!!!!!!!!!!!!!!!!!\n",
    "\n",
    "## The professor asks for this: \n",
    "## Average clustering coefficient (average of the clustering coefficient of each node)\n",
    "## This means:\n",
    "## For each node / vertex: calculate the transitivity \n",
    "## average the transitivty \n",
    "\n",
    "# transitivity for each node in the graph  \n",
    "trans_per_vertex = [round(g.transitivity_local_undirected(vertices=v['id']),4) for v in g.vs()]\n",
    "\n",
    "# average of all transitivities \n",
    "average_transitivty = round(np.mean(trans_per_vertex), 4)\n",
    "\n",
    "## check if they are the same \n",
    "assert average_transitivty == (round(sum(trans_per_vertex) / g.vcount(),4))\n",
    "## these two are equal \n",
    "print(round(sum(trans_per_vertex) / g.vcount(),4))\n",
    "print(average_transitivty)\n",
    "\n",
    "## These two are the same as above\n",
    "## this is the average transitivity of each node!\n",
    "print(round(g.transitivity_avglocal_undirected(), 4))\n",
    "## this as well \n",
    "print(round(np.mean(g.transitivity_local_undirected()),4))\n",
    "\n",
    "# only off one \n",
    "## this is the global transitivity for all the network\n",
    "## this will only take the global connectiveness of nodes\n",
    "## wvu - uvw, but not the individual nodes connections\n",
    "print(\"This is the weird one\")\n",
    "print(round(g.transitivity_undirected(),4))\n"
   ]
  },
  {
   "cell_type": "markdown",
   "metadata": {},
   "source": [
    "### Issues 3: Average Path Length"
   ]
  },
  {
   "cell_type": "code",
   "execution_count": null,
   "metadata": {},
   "outputs": [],
   "source": [
    "## Proff wants this:\n",
    "## Average path length (average distance between all pairs of nodes)\n",
    "## to do this: \n",
    "## length of paths for each node \n",
    "## average it out for all nodes \n",
    "avg_path_len = g.average_path_length()\n",
    "\n",
    "print(avg_path_len)\n",
    "\n",
    "# shortest paths \n",
    "## from the documentation:\n",
    "## Calculates shortest path lengths for given vertices in a graph.\n",
    "## this will return ONLY THE SHORTEST path for each node \n",
    "## if node A has 3 paths: 1.3, 4.5, 0.9, it will return 0.9 \n",
    "## and not the average(1.3, 4.5, 0.9) ~~ correct average length for each node \n",
    "sh_path = g.shortest_paths()\n",
    "\n",
    "## get all the paths \n",
    "print(np.mean(sh_path))"
   ]
  },
  {
   "cell_type": "markdown",
   "metadata": {},
   "source": [
    "### Testing"
   ]
  },
  {
   "cell_type": "code",
   "execution_count": 4,
   "metadata": {},
   "outputs": [],
   "source": [
    "## Variable configuration\n",
    "## Path to the zip file \n",
    "ZIP_PATH = './A1-networks.zip'\n",
    "## extracted directory\n",
    "OUTPUT = './A1-networks/'   "
   ]
  },
  {
   "cell_type": "code",
   "execution_count": null,
   "metadata": {},
   "outputs": [],
   "source": [
    "## Extracting the zip-file\n",
    "print(\"Extracting zip file...\\n\")\n",
    "extract_zip(ZIP_PATH, OUTPUT)\n",
    "\n",
    "## Reading all the pajek files (.net files)\n",
    "print(\"Loading Pajek files into memory...\\n\")\n",
    "net_files = read_net_files(OUTPUT, verbosity=True)\n",
    "\n"
   ]
  },
  {
   "cell_type": "code",
   "execution_count": null,
   "metadata": {},
   "outputs": [],
   "source": [
    "##### Part A: Numerical Descriptors of Networks ######\n",
    "## extract the data and optionally save the CSV\n",
    "print(\"Initializing Numerical Descriptor Extraction of Pajek files...\\n\")\n",
    "df = extract_data_and_save(net_files, \"new_Descriptors\", save_csv=True)\n",
    "## verbosity \n",
    "print(\"Succesfully saved the Numerical Descriptors\\n\")\n",
    "## sanity \n",
    "gc.collect()"
   ]
  },
  {
   "cell_type": "code",
   "execution_count": null,
   "metadata": {},
   "outputs": [],
   "source": [
    "##### Part B: Numerical Descriptors of Real Network - AIRPORT ######\n",
    "## get the airport file from memory \n",
    "print(\"Initializing the Airport Numerical Description Extraction....\\n\")\n",
    "airport = net_files['real']['airports_UW.net'][0]\n",
    "## For the report \n",
    "airport_to_calculate = [\n",
    "                        \"PAR\",\n",
    "                        \"LON\",\n",
    "                        \"FRA\",\n",
    "                        \"AMS\",\n",
    "                        \"MOW\",\n",
    "                        \"NYC\",\n",
    "                        \"ATL\",\n",
    "                        \"BCN\",\n",
    "                        \"WAW\",\n",
    "                        \"CHC\",\n",
    "                        \"DJE\",\n",
    "                        \"ADA\",\n",
    "                        \"AGU\",\n",
    "                        \"TBO\",\n",
    "                        \"ZVA\",\n",
    "                        ]\n",
    "\n",
    "## extract the airport descriptors\n",
    "air_port = extract_airport_descriptors(graph = airport, \n",
    "                            file_name = \"NEW_Airport_Descriptor\",\n",
    "                            airport_list=airport_to_calculate,\n",
    "                            save_csv = True)\n",
    "print(\"The Airport Numerical Descriptors were extracted correctly! \\n\")\n",
    "\n",
    "## sanity \n",
    "gc.collect()"
   ]
  },
  {
   "cell_type": "code",
   "execution_count": null,
   "metadata": {},
   "outputs": [],
   "source": [
    "### PART C: Histograms and CCDF\n",
    "make_histograms_pdf(bins=15)"
   ]
  }
 ],
 "metadata": {
  "interpreter": {
   "hash": "ac6858c3dbc49267e902ff986705b591b9d7b57befff84fd7d814fe16c4a8e1f"
  },
  "kernelspec": {
   "display_name": "Python 3.8.5 ('ci_covid')",
   "language": "python",
   "name": "python3"
  },
  "language_info": {
   "codemirror_mode": {
    "name": "ipython",
    "version": 3
   },
   "file_extension": ".py",
   "mimetype": "text/x-python",
   "name": "python",
   "nbconvert_exporter": "python",
   "pygments_lexer": "ipython3",
   "version": "3.8.5"
  },
  "orig_nbformat": 4
 },
 "nbformat": 4,
 "nbformat_minor": 2
}
