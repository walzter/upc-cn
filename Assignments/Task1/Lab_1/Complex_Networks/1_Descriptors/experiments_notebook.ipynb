{
 "cells": [
  {
   "cell_type": "markdown",
   "metadata": {},
   "source": [
    "# Experiments"
   ]
  },
  {
   "cell_type": "code",
   "execution_count": 1,
   "metadata": {},
   "outputs": [
    {
     "name": "stdout",
     "output_type": "stream",
     "text": [
      "Structural descriptors of complex networks\n",
      "Autors: Edison Bejarano - Eric Walzthöny\n"
     ]
    }
   ],
   "source": [
    "print(\"\"\"Structural descriptors of complex networks\"\"\")\n",
    "print(\"\"\"Autors: Edison Bejarano - Eric Walzthöny\"\"\")"
   ]
  },
  {
   "cell_type": "code",
   "execution_count": 2,
   "metadata": {},
   "outputs": [],
   "source": [
    "## Global Bariables\n",
    "ZIP_PATH = './A1-networks.zip'\n",
    "OUTPUT = './A1-networks/'"
   ]
  },
  {
   "cell_type": "code",
   "execution_count": 3,
   "metadata": {},
   "outputs": [
    {
     "name": "stdout",
     "output_type": "stream",
     "text": [
      "Folder already exists\n"
     ]
    }
   ],
   "source": [
    "## extracting the zipfile\n",
    "from utils.utils import extract_zip, read_net_files\n",
    "extract_zip(ZIP_PATH, OUTPUT)"
   ]
  },
  {
   "cell_type": "code",
   "execution_count": 4,
   "metadata": {},
   "outputs": [
    {
     "name": "stdout",
     "output_type": "stream",
     "text": [
      "There are 3 datasets in the directory: ./A1-networks/\n",
      "-->TOY<-- Dataset contains 8 files / graphs\n",
      "-->REAL<-- Dataset contains 4 files / graphs\n",
      "-->MODEL<-- Dataset contains 14 files / graphs\n"
     ]
    }
   ],
   "source": [
    "## reading the .net files \n",
    "net_files = read_net_files(OUTPUT, verbosity=True)"
   ]
  },
  {
   "cell_type": "markdown",
   "metadata": {},
   "source": [
    "### Issues 1: Average Degree"
   ]
  },
  {
   "cell_type": "code",
   "execution_count": null,
   "metadata": {},
   "outputs": [],
   "source": [
    "\"\"\"\n",
    "Checking el average degree \n",
    "tu formula de:\n",
    "\n",
    "    average_degree = \"{:.4f}\".format(\n",
    "                                    float(edges / nodes)\n",
    "                                    )  # Total Edges/Total Nodes=Average Degree\n",
    "\n",
    "Esta mal, porque solo toma en cuenta el numero total de nodos\n",
    "(asume que cada nodo tiene una sola conexion), y no las conexiones de cada nodo. \n",
    "\n",
    "Por ejemplo, el nodo, O2, abajo:     \n",
    "    O1-O2-O3\n",
    "       |\n",
    "       O4\n",
    "Hay 4 nodos, pero no todos tienen el degree igual\n",
    "Nodo 01, 03, 04 - Degree: 1 (una conexion)\n",
    "Nodo 02 - Degree: 3 (tres conexiones)\n",
    "\n",
    "Fijate en la implementacion de abajo de \"average_degree_graph\", que se copio del libro.\n",
    "\n",
    "\n",
    "\"\"\"\n",
    "\n",
    "import numpy as np\n",
    "import igraph\n",
    "from igraph import mean\n",
    "\n",
    "\n",
    "## loading a sample network\n",
    "g = net_files['toy']['rb25.net'][0]\n",
    "\n",
    "## Edges & Vertices (Nodes)\n",
    "edges = g.ecount()\n",
    "vertex = g.vcount()\n",
    "\n",
    "## Checking Degrees of the network\n",
    "## Tu implementacion \n",
    "edison_average_degree = edges / vertex  # Total Edges / Total Nodes =Average Degree\n",
    "# Manual Method 1\n",
    "avg_degree_calculated = sum(g.degree()) / vertex\n",
    "## Manual Method 2\n",
    "igraph_avg_degree_calculated = round(mean(g.degree()), 3)\n",
    "## Manual Method 3\n",
    "def average_degree_graph(graph:igraph.Graph) -> float:\n",
    "    \"\"\"\n",
    "    manually calculates the degree of each vertex\n",
    "    \n",
    "    from the textbook (CN, page 127):\n",
    "    \n",
    "    Average Degree = 1/n * sum(degree of vertex in g)\n",
    "    \n",
    "    \"\"\"\n",
    "    ## Degree (Connections) for each node in the graph \n",
    "    list_of_degrees = [x.degree() for x in graph.vs()]\n",
    "    ## Sum of all the degrees (Connections)\n",
    "    degree_sum = sum(list_of_degrees)\n",
    "    ## Sum_Degrees / (total number of nodes)\n",
    "    average_degree = degree_sum / graph.vcount()\n",
    "    return average_degree\n",
    "\n",
    "## Comparing the results \n",
    "print(edges, vertex)\n",
    "print(edison_average_degree, avg_degree_calculated, igraph_avg_degree_calculated, average_degree_graph(g))"
   ]
  },
  {
   "cell_type": "markdown",
   "metadata": {},
   "source": [
    "### Issues 2: Transitivity / Average Clustering coefficient"
   ]
  },
  {
   "cell_type": "code",
   "execution_count": null,
   "metadata": {},
   "outputs": [],
   "source": [
    "## Chapter 7 complex networks !!!!!!!!!!!!!!!!!!\n",
    "\n",
    "## The professor asks for this: \n",
    "## Average clustering coefficient (average of the clustering coefficient of each node)\n",
    "## This means:\n",
    "## For each node / vertex: calculate the transitivity \n",
    "## average the transitivty \n",
    "\n",
    "# transitivity for each node in the graph  \n",
    "trans_per_vertex = [round(g.transitivity_local_undirected(vertices=v['id']),4) for v in g.vs()]\n",
    "\n",
    "# average of all transitivities \n",
    "average_transitivty = round(np.mean(trans_per_vertex), 4)\n",
    "\n",
    "## check if they are the same \n",
    "assert average_transitivty == (round(sum(trans_per_vertex) / g.vcount(),4))\n",
    "## these two are equal \n",
    "print(round(sum(trans_per_vertex) / g.vcount(),4))\n",
    "print(average_transitivty)\n",
    "\n",
    "## this is the global transitivity for all the network\n",
    "## this will only take the global connectiveness of nodes\n",
    "## wvu - uvw, but not the individual nodes connections\n",
    "print(round(g.transitivity_undirected(),4))\n",
    "\n",
    "## These two are the same as above\n",
    "## this is the average transitivity of each node!\n",
    "print(round(g.transitivity_avglocal_undirected(), 4))\n",
    "## this as well \n",
    "print(round(np.mean(g.transitivity_local_undirected()),4))"
   ]
  },
  {
   "cell_type": "markdown",
   "metadata": {},
   "source": [
    "### Issues 3: Average Path Length"
   ]
  },
  {
   "cell_type": "code",
   "execution_count": null,
   "metadata": {},
   "outputs": [],
   "source": [
    "## Proff wants this:\n",
    "## Average path length (average distance between all pairs of nodes)\n",
    "## to do this: \n",
    "## length of paths for each node \n",
    "## average it out for all nodes \n",
    "avg_path_len = g.average_path_length()\n",
    "\n",
    "print(avg_path_len)\n",
    "\n",
    "# shortest paths \n",
    "## from the documentation:\n",
    "## Calculates shortest path lengths for given vertices in a graph.\n",
    "## this will return ONLY THE SHORTEST path for each node \n",
    "## if node A has 3 paths: 1.3, 4.5, 0.9, it will return 0.9 \n",
    "## and not the average(1.3, 4.5, 0.9) ~~ correct average length for each node \n",
    "sh_path = g.shortest_paths()\n",
    "\n",
    "## get all the paths \n",
    "print(np.mean(sh_path))"
   ]
  },
  {
   "cell_type": "markdown",
   "metadata": {},
   "source": [
    "### Testing"
   ]
  },
  {
   "cell_type": "code",
   "execution_count": 5,
   "metadata": {},
   "outputs": [
    {
     "data": {
      "text/plain": [
       "defaultdict(<function utils.utils.read_net_files.<locals>.<lambda>()>,\n",
       "            {'toy': defaultdict(list,\n",
       "                         {'rb25.net': [<igraph.Graph at 0x7fa228d19b80>],\n",
       "                          'wheel.net': [<igraph.Graph at 0x7fa228d19c70>],\n",
       "                          'graph3+1+3.net': [<igraph.Graph at 0x7fa228d19d60>],\n",
       "                          '20x2+5x2.net': [<igraph.Graph at 0x7fa228d19e50>],\n",
       "                          'graph4+4.net': [<igraph.Graph at 0x7fa228d73040>],\n",
       "                          'grid-p-6x6.net': [<igraph.Graph at 0x7fa228d73130>],\n",
       "                          'star.net': [<igraph.Graph at 0x7fa228d73220>],\n",
       "                          'circle9.net': [<igraph.Graph at 0x7fa228d73310>]}),\n",
       "             'real': defaultdict(list,\n",
       "                         {'zachary_unwh.net': [<igraph.Graph at 0x7fa228d73400>],\n",
       "                          'dolphins.net': [<igraph.Graph at 0x7fa228d734f0>],\n",
       "                          'airports_UW.net': [<igraph.Graph at 0x7fa228d735e0>],\n",
       "                          'PGP.net': [<igraph.Graph at 0x7fa228d736d0>]}),\n",
       "             'model': defaultdict(list,\n",
       "                         {'SF_1000_g2.5.net': [<igraph.Graph at 0x7fa228d737c0>],\n",
       "                          'SF_1000_g2.7.net': [<igraph.Graph at 0x7fa228d738b0>],\n",
       "                          'homorand_N1000_K6_0.net': [<igraph.Graph at 0x7fa228d739a0>],\n",
       "                          'homorand_N1000_K4_0.net': [<igraph.Graph at 0x7fa228d73a90>],\n",
       "                          'ER1000k8.net': [<igraph.Graph at 0x7fa228d73b80>],\n",
       "                          'SF_1000_g3.0.net': [<igraph.Graph at 0x7fa228d73c70>],\n",
       "                          'ws2000.net': [<igraph.Graph at 0x7fa228d73d60>],\n",
       "                          'BA1000.net': [<igraph.Graph at 0x7fa228d73e50>],\n",
       "                          '256_4_4_4_13_18_p.net': [<igraph.Graph at 0x7fa2293ca040>],\n",
       "                          'ER5000k8.net': [<igraph.Graph at 0x7fa2293ca130>],\n",
       "                          'SF_500_g2.7.net': [<igraph.Graph at 0x7fa2293ca220>],\n",
       "                          '256_4_4_2_15_18_p.net': [<igraph.Graph at 0x7fa2293ca310>],\n",
       "                          'rb125.net': [<igraph.Graph at 0x7fa2293ca400>],\n",
       "                          'ws1000.net': [<igraph.Graph at 0x7fa2293ca4f0>]})})"
      ]
     },
     "execution_count": 5,
     "metadata": {},
     "output_type": "execute_result"
    }
   ],
   "source": [
    "net_files"
   ]
  },
  {
   "cell_type": "code",
   "execution_count": 6,
   "metadata": {},
   "outputs": [
    {
     "data": {
      "text/plain": [
       "defaultdict(list,\n",
       "            {'rb25.net': [<igraph.Graph at 0x7fa228d19b80>],\n",
       "             'wheel.net': [<igraph.Graph at 0x7fa228d19c70>],\n",
       "             'graph3+1+3.net': [<igraph.Graph at 0x7fa228d19d60>],\n",
       "             '20x2+5x2.net': [<igraph.Graph at 0x7fa228d19e50>],\n",
       "             'graph4+4.net': [<igraph.Graph at 0x7fa228d73040>],\n",
       "             'grid-p-6x6.net': [<igraph.Graph at 0x7fa228d73130>],\n",
       "             'star.net': [<igraph.Graph at 0x7fa228d73220>],\n",
       "             'circle9.net': [<igraph.Graph at 0x7fa228d73310>]})"
      ]
     },
     "execution_count": 6,
     "metadata": {},
     "output_type": "execute_result"
    }
   ],
   "source": [
    "net_files['toy']"
   ]
  },
  {
   "cell_type": "code",
   "execution_count": 7,
   "metadata": {},
   "outputs": [
    {
     "ename": "AttributeError",
     "evalue": "'list' object has no attribute 'ecount'",
     "output_type": "error",
     "traceback": [
      "\u001b[0;31m---------------------------------------------------------------------------\u001b[0m",
      "\u001b[0;31mAttributeError\u001b[0m                            Traceback (most recent call last)",
      "\u001b[0;32m/var/folders/bd/f5z4cc193xgdxq1yr1xpflmm0000gn/T/ipykernel_57085/1916818093.py\u001b[0m in \u001b[0;36m<module>\u001b[0;34m\u001b[0m\n\u001b[1;32m      5\u001b[0m \u001b[0;31m#dataset, file_name, loaded_graph\u001b[0m\u001b[0;34m\u001b[0m\u001b[0;34m\u001b[0m\u001b[0;34m\u001b[0m\u001b[0m\n\u001b[1;32m      6\u001b[0m \u001b[0;34m\u001b[0m\u001b[0m\n\u001b[0;32m----> 7\u001b[0;31m test = NumericalNetworkDescriptor(dataset='toy',\n\u001b[0m\u001b[1;32m      8\u001b[0m                                   \u001b[0mfile_name\u001b[0m\u001b[0;34m=\u001b[0m\u001b[0;34m'rb25.net'\u001b[0m\u001b[0;34m,\u001b[0m\u001b[0;34m\u001b[0m\u001b[0;34m\u001b[0m\u001b[0m\n\u001b[1;32m      9\u001b[0m                                   loaded_graph=net_files['toy']['rb25.net'])\n",
      "\u001b[0;32m~/Documents/Uni/Msc/Courses/Sem2/CN/Assignments/Lab_1/Complex_Networks/1_Descriptors/utils/numerical_descriptors.py\u001b[0m in \u001b[0;36m__init__\u001b[0;34m(self, dataset, file_name, loaded_graph)\u001b[0m\n\u001b[1;32m     24\u001b[0m         \u001b[0mself\u001b[0m\u001b[0;34m.\u001b[0m\u001b[0mdecimals\u001b[0m \u001b[0;34m=\u001b[0m \u001b[0;36m4\u001b[0m\u001b[0;34m\u001b[0m\u001b[0;34m\u001b[0m\u001b[0m\n\u001b[1;32m     25\u001b[0m         \u001b[0;31m# number of edges\u001b[0m\u001b[0;34m\u001b[0m\u001b[0;34m\u001b[0m\u001b[0;34m\u001b[0m\u001b[0m\n\u001b[0;32m---> 26\u001b[0;31m         \u001b[0mself\u001b[0m\u001b[0;34m.\u001b[0m\u001b[0medges\u001b[0m \u001b[0;34m=\u001b[0m \u001b[0mself\u001b[0m\u001b[0;34m.\u001b[0m\u001b[0mgraph\u001b[0m\u001b[0;34m.\u001b[0m\u001b[0mecount\u001b[0m\u001b[0;34m(\u001b[0m\u001b[0;34m)\u001b[0m\u001b[0;34m\u001b[0m\u001b[0;34m\u001b[0m\u001b[0m\n\u001b[0m\u001b[1;32m     27\u001b[0m         \u001b[0;31m# number of vertices\u001b[0m\u001b[0;34m\u001b[0m\u001b[0;34m\u001b[0m\u001b[0;34m\u001b[0m\u001b[0m\n\u001b[1;32m     28\u001b[0m         \u001b[0mself\u001b[0m\u001b[0;34m.\u001b[0m\u001b[0mvertices\u001b[0m \u001b[0;34m=\u001b[0m \u001b[0mself\u001b[0m\u001b[0;34m.\u001b[0m\u001b[0mgraph\u001b[0m\u001b[0;34m.\u001b[0m\u001b[0mvcount\u001b[0m\u001b[0;34m(\u001b[0m\u001b[0;34m)\u001b[0m\u001b[0;34m\u001b[0m\u001b[0;34m\u001b[0m\u001b[0m\n",
      "\u001b[0;31mAttributeError\u001b[0m: 'list' object has no attribute 'ecount'"
     ]
    }
   ],
   "source": [
    "from utils.numerical_descriptors import NumericalNetworkDescriptor\n",
    "\n",
    "## sample graph \n",
    "\n",
    "#dataset, file_name, loaded_graph\n",
    "\n",
    "test = NumericalNetworkDescriptor(dataset='toy',\n",
    "                                  file_name='rb25.net',\n",
    "                                  loaded_graph=net_files['toy']['rb25.net'])"
   ]
  },
  {
   "cell_type": "code",
   "execution_count": null,
   "metadata": {},
   "outputs": [],
   "source": [
    "## Part A: Numerical Descriptors of Networks \n",
    "\n",
    "\n",
    "# a) Numerical descriptors of networks\n",
    "df = compute_descriptors(name_networks,networks_graph)\n",
    "df.to_csv('./results/Descriptors.csv',index=True)\n",
    "\n",
    "# Airport real networks\n",
    "# b) Numerical descriptors of the nodes of the network real/airports_UW.net\n",
    "df2 = real_networks_airports(name_networks,networks_graph)\n",
    "\n",
    "# c) Plot the histograms of the degree distributions (PDF, probability distribution function) and the complementary cumulative degree distributions (CCDF) for the following networks:\n"
   ]
  }
 ],
 "metadata": {
  "interpreter": {
   "hash": "ac6858c3dbc49267e902ff986705b591b9d7b57befff84fd7d814fe16c4a8e1f"
  },
  "kernelspec": {
   "display_name": "Python 3.8.5 ('ci_covid')",
   "language": "python",
   "name": "python3"
  },
  "language_info": {
   "codemirror_mode": {
    "name": "ipython",
    "version": 3
   },
   "file_extension": ".py",
   "mimetype": "text/x-python",
   "name": "python",
   "nbconvert_exporter": "python",
   "pygments_lexer": "ipython3",
   "version": "3.8.5"
  },
  "orig_nbformat": 4
 },
 "nbformat": 4,
 "nbformat_minor": 2
}
