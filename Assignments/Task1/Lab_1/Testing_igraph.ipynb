{
 "cells": [
  {
   "cell_type": "code",
   "execution_count": 2,
   "metadata": {},
   "outputs": [],
   "source": [
    "## file systems\n",
    "from glob import glob\n",
    "## importing necesary libraries \n",
    "import igraph\n",
    "## plot\n",
    "import matplotlib.pyplot as plt\n",
    "import numpy as np\n",
    "import pandas as pd\n",
    "\n",
    "# Code\n",
    "from pyfiles.numerical_descriptor import NumericalNetworkDescriptor\n",
    "from pyfiles.utils import make_df_time, join_csvs"
   ]
  },
  {
   "cell_type": "markdown",
   "metadata": {},
   "source": [
    "## Part A"
   ]
  },
  {
   "cell_type": "code",
   "execution_count": null,
   "metadata": {},
   "outputs": [],
   "source": [
    "# all the Networks\n",
    "toy_graphs = 'A1-networks/toy'\n",
    "real_graphs = 'A1-networks/real'\n",
    "model_graphs = 'A1-networks/model'"
   ]
  },
  {
   "cell_type": "code",
   "execution_count": null,
   "metadata": {},
   "outputs": [],
   "source": [
    "df_toy = make_df_time(toy_graphs)\n",
    "df_toy.to_csv('res/toy_graphs.csv')"
   ]
  },
  {
   "cell_type": "code",
   "execution_count": null,
   "metadata": {},
   "outputs": [],
   "source": [
    "df_real = make_df_time(real_graphs)\n",
    "df_real.to_csv('res/real_graphs.csv')"
   ]
  },
  {
   "cell_type": "code",
   "execution_count": null,
   "metadata": {},
   "outputs": [],
   "source": [
    "df_model = make_df_time(model_graphs)\n",
    "df_model.to_csv('res/model_graphs.csv')"
   ]
  },
  {
   "cell_type": "code",
   "execution_count": null,
   "metadata": {},
   "outputs": [],
   "source": [
    "# joining the csvs \n",
    "df = join_csvs('res')"
   ]
  },
  {
   "cell_type": "code",
   "execution_count": null,
   "metadata": {},
   "outputs": [],
   "source": [
    "df = pd.read_csv('res/combined_data.csv')\n",
    "df = df.drop('Unnamed: 0', axis=1)\n",
    "df.groupby('Nodes')['Time'].mean().plot(title='Graph 1. Time vs. Nodes',\n",
    "                                        ylabel='Time [s]',\n",
    "                                        xlabel='Number of Nodes')\n",
    "plt.show()"
   ]
  },
  {
   "cell_type": "markdown",
   "metadata": {},
   "source": [
    "## Part B\n",
    "\n",
    "network real/airports_UW.net\n",
    "\n",
    "Degree\n",
    "Strength\n",
    "Clustering coefficient\n",
    "Average path length (average distance to the rest of the nodes)\n",
    "Maximum path length (maximum distance to the rest of the nodes)\n",
    "Betweenness\n",
    "Eigenvector centrality\n",
    "PageRank"
   ]
  },
  {
   "cell_type": "code",
   "execution_count": 33,
   "metadata": {},
   "outputs": [],
   "source": [
    "# decimals = 8 \n",
    "decimals = 8 \n",
    "\n",
    "# defined airports - these are the nodes / vertices \n",
    "airports = ['PAR', 'LON', 'FRA', 'AMS', 'MOW', 'NYC', 'ATL', 'BCN', 'WAW', 'CHC', 'DJE', 'ADA', 'AGU', 'TBO', 'ZVA']\n",
    "# chose the airports_UW.net \n",
    "graph = 'A1-networks/real/airports_UW.net'\n",
    "\n",
    "# load the graph \n",
    "g = igraph.read(graph, format='pajek')\n",
    "\n",
    "# Degree \n",
    "minimum_degree = round(np.min(g.degree()), decimals)\n",
    "maximum_degree = round(np.max(g.degree()), decimals)\n",
    "average_degree = round(np.mean(g.degree()), decimals)\n",
    "# Strength -> Take the average of this \n",
    "strength = round(np.mean(g.strength()), decimals)\n",
    "# Clustering Coefficient \n",
    "c_coef = round(g.transitivity_avglocal_undirected(),decimals)\n",
    "# Average Path Length \n",
    "average_path_length = round(g.average_path_length(), decimals)\n",
    "# Maximum Path Length \n",
    "\n",
    "# Betweeness \n",
    "# Eigenvector Centrality \n",
    "# PageRank\n",
    "page_rank = round(np.mean(g.pagerank()), decimals)\n"
   ]
  },
  {
   "cell_type": "code",
   "execution_count": null,
   "metadata": {},
   "outputs": [],
   "source": []
  },
  {
   "cell_type": "code",
   "execution_count": null,
   "metadata": {},
   "outputs": [],
   "source": []
  },
  {
   "cell_type": "code",
   "execution_count": 104,
   "metadata": {},
   "outputs": [
    {
     "data": {
      "text/plain": [
       "[3618,\n",
       " 3618,\n",
       " 3618,\n",
       " 3618,\n",
       " 3618,\n",
       " 3618,\n",
       " 3618,\n",
       " 3618,\n",
       " 3618,\n",
       " 3618,\n",
       " 3618,\n",
       " 3618,\n",
       " 3618,\n",
       " 3618,\n",
       " 3618]"
      ]
     },
     "execution_count": 104,
     "metadata": {},
     "output_type": "execute_result"
    }
   ],
   "source": [
    "def get_max_len(graph, airport_id):\n",
    "    all_paths = graph.dfs(vid=airport_id)\n",
    "    max_len = max([len(x) for x in all_paths])\n",
    "    return max_len\n",
    "\n",
    "# all the max_length for the ids \n",
    "max_lengths = [get_max_len(g, airport_id=x) for x in k]\n",
    "\n",
    "# looking at it \n",
    "max_lengths"
   ]
  },
  {
   "cell_type": "code",
   "execution_count": 108,
   "metadata": {},
   "outputs": [
    {
     "data": {
      "text/plain": [
       "[33,\n",
       " 62,\n",
       " 115,\n",
       " 173,\n",
       " 239,\n",
       " 526,\n",
       " 725,\n",
       " 925,\n",
       " 1712,\n",
       " 1953,\n",
       " 2160,\n",
       " 2268,\n",
       " 2876,\n",
       " 3233,\n",
       " 3613]"
      ]
     },
     "execution_count": 108,
     "metadata": {},
     "output_type": "execute_result"
    }
   ],
   "source": [
    "\"\"\"\n",
    "Maximum path \n",
    "- Need the VID (Vertex ID of the specified Airport )\n",
    "- Use the DFS in order to find all the paths from that node \n",
    "- get the maximum of all the lengths inside paths \n",
    "- Apply it to all the vertex ids \n",
    "\n",
    "\"\"\"\n",
    "\n",
    "\n",
    "# filter for the specified airports \n",
    "# list of vertex with the specific object (id, name, x, y)\n",
    "l = [x for x in g.vs() if x['name'] in airports]\n",
    "k = [x.index for x in l]\n",
    "# dictionary with airport name (node) and the corresponding index \n",
    "d = dict(zip(airports,k))\n",
    "# \n",
    "igraph.plot(g, vertex_label = g.vs()['name'])\n",
    "\n",
    "PARIS_ID = 2268\n",
    "#g.vs[2268]\n",
    "all_paths = g.dfs(vid=PARIS_ID)\n",
    "max_len = max([len(x) for x in all_paths])\n",
    "\n",
    "## function for this \n",
    "k"
   ]
  },
  {
   "cell_type": "code",
   "execution_count": 114,
   "metadata": {},
   "outputs": [
    {
     "data": {
      "text/plain": [
       "2268"
      ]
     },
     "execution_count": 114,
     "metadata": {},
     "output_type": "execute_result"
    }
   ],
   "source": []
  },
  {
   "cell_type": "code",
   "execution_count": 115,
   "metadata": {},
   "outputs": [
    {
     "data": {
      "text/plain": [
       "3618"
      ]
     },
     "execution_count": 115,
     "metadata": {},
     "output_type": "execute_result"
    }
   ],
   "source": [
    "MAIN_ID = 3\n",
    "#g.vs[2268]\n",
    "all_paths = g.dfs(vid=g.vs.find(name='PAR').index)\n",
    "max_len = max([len(x) for x in all_paths])\n",
    "\n",
    "max_len"
   ]
  },
  {
   "cell_type": "code",
   "execution_count": 14,
   "metadata": {},
   "outputs": [],
   "source": [
    "k = g.path_length_hist()\n",
    "\n",
    "# the values \n",
    "num_vals = k.n\n",
    "# getting the mean of the histogram is the same as the average path length\n",
    "assert k.mean == g.average_path_length()"
   ]
  },
  {
   "cell_type": "code",
   "execution_count": 28,
   "metadata": {},
   "outputs": [
    {
     "data": {
      "text/plain": [
       "False"
      ]
     },
     "execution_count": 28,
     "metadata": {},
     "output_type": "execute_result"
    }
   ],
   "source": [
    "k =[x for x in g.vs()]\n",
    "k[0]\n",
    "\n",
    "g.is_directed() # it is an undirected graph, "
   ]
  },
  {
   "cell_type": "code",
   "execution_count": null,
   "metadata": {},
   "outputs": [],
   "source": [
    "## getting all the toy networks \n",
    "files = glob('A1-networks/toy/*.net')\n",
    "\n",
    "## using the 0th as a sample: rb25.net\n",
    "sample = files[0]\n",
    "\n",
    "# reading a .net file - pajek format \n",
    "g = igraph.read(sample, format='pajek')\n",
    "\n",
    "# directed or undirected graph?\n",
    "print(g.is_directed())\n",
    "\n",
    "# IGRAPH, followed by a four-character long code\n",
    "# the number of vertices\n",
    "# the number of edges\n",
    "# two dashes (–) and the name of the graph\n",
    "print(igraph.summary(g));\n",
    "# we can see that we have 25 Vertices and 66 Edges \n",
    "\n",
    "# lets look at all the vertices in the graph \n",
    "vertices_list = g.vs.indices\n",
    "\n",
    "# check that the length is the same as the one in the summary \n",
    "assert len(vertices_list) == 25\n",
    "# sanity \n",
    "print(f\"The vertices are the same as in the summary method ({len(vertices_list)})\")\n",
    "\n",
    "# we can also get the list of all edges \n",
    "edge_list = g.get_edgelist()\n",
    "\n",
    "# we can also confirm that we have 66 edges in our graph \n",
    "assert len(edge_list) == 66\n",
    "# verbosity \n",
    "print(f\"The edges are the same as in the summary method ({len(edge_list)})\")\n",
    "\n",
    "\n",
    "# we can also get the degree of the graph \n",
    "# the number of edges adjacent to it \n",
    "# since this is an undirected graph \n",
    "# we don't need to specify \"mode='in'\" or \"mode = 'out\"\n",
    "print(g.degree())\n",
    "\n",
    "# plotting ## Uncomment below to plot\n",
    "#out_name = 'rb25.eps'\n",
    "#igraph.plot(g) # to ave to specific 'out_name', use this: igraph.plot(g, out_name)"
   ]
  },
  {
   "cell_type": "code",
   "execution_count": null,
   "metadata": {},
   "outputs": [],
   "source": [
    "# some statistics\n",
    "\n",
    "## Edges \n",
    "num_edges = g.ecount()\n",
    "\n",
    "## Vertex or Nodes\n",
    "num_vert = g.vcount() # Vertex == Nodes \n",
    "\n",
    "## density\n",
    "g_dense = g.density()\n",
    "#graph_dens = 2*num_edges / ((num_vert) * (num_vert-1)) # manual method\n",
    "\n",
    "## Average Path Length\n",
    "avg_path_len = g.average_path_length()\n",
    "# check \n",
    "assert sum(g.degree()) / g.vcount() == np.mean(g.degree())\n",
    "\n",
    "## Average Shortest Paths\n",
    "sps = np.mean(g.shortest_paths())\n",
    "\n",
    "## Assortativity \n",
    "ast = g.assortativity_degree()\n",
    "\n",
    "## Diameter \n",
    "diam = g.diameter()\n",
    "\n",
    "## Degrees \n",
    "# all degrees \n",
    "degrees = g.degree()\n",
    "# minimum degree \n",
    "min_degree = np.min(degrees)\n",
    "# max degree\n",
    "max_degree = np.max(degrees)\n",
    "# Avg degree -> sum(Degrees) / Nodes\n",
    "avg_degree = np.mean(degrees)\n",
    "\n",
    "# Sanity\n",
    "print(f\"The number of vertices/nodes is: {num_vert}\")\n",
    "print(f\"The number of edges is: {num_edges}\")\n",
    "print(f\"The density of the graph is: {g_dense}\")\n",
    "print(f\"The average path length is: {avg_path_len:.4f}\")\n",
    "print(f\"The graphs' assortativity is: {ast:.4f}\")\n",
    "print(f\"The graphs diameter is: {diam}\")\n",
    "# degrees\n",
    "print(f\"The minimum degree is: {min_degree}\")\n",
    "print(f\"The average degree is: {avg_degree}\")\n",
    "print(f\"The maximum degree is: {max_degree}\")"
   ]
  },
  {
   "cell_type": "code",
   "execution_count": null,
   "metadata": {},
   "outputs": [],
   "source": [
    "# Which one to chose?\n",
    "# this one is approx 50% less than the ones below? (0.5 vs 0.9)\n",
    "print(g.transitivity_undirected())\n",
    "# these two give the same result \n",
    "print(g.transitivity_avglocal_undirected())\n",
    "print(np.mean(g.transitivity_local_undirected()))"
   ]
  },
  {
   "cell_type": "code",
   "execution_count": null,
   "metadata": {},
   "outputs": [],
   "source": [
    "## Other Commands ##\n",
    "\n",
    "## Detailed Summary of the Graph\n",
    "#print(g.summary(verbosity=1))\n",
    "\n",
    "## Count of all the Vertices \n",
    "#print(g.vcount())\n",
    "\n",
    "## Count all the edges \n",
    "#print(g.ecount())\n",
    "\n",
    "## Adjacency Matrix \n",
    "# print(g.get_adjacency())\n",
    "\n",
    "## entire edge list \n",
    "# print(g.get_edgelist())\n",
    "\n",
    "## Adjacency List \n",
    "#g.get_adjlist()"
   ]
  },
  {
   "cell_type": "code",
   "execution_count": null,
   "metadata": {},
   "outputs": [],
   "source": []
  },
  {
   "cell_type": "code",
   "execution_count": null,
   "metadata": {},
   "outputs": [],
   "source": [
    "path = 'A1-networks/toy/rb25.net'\n",
    "g = igraph.read(path, format='pajek')\n",
    "\n",
    "#igraph.plot(g)\n",
    "# here we can add the vertex: label & color \n",
    "# as well as the edge color \n",
    "igraph.plot(g,\n",
    "            vertex_label = g.vs()['name'],\n",
    "            vertex_color = ['yellow','orange','purple'],\n",
    "            edge_color= ['red','blue','green'])"
   ]
  },
  {
   "cell_type": "code",
   "execution_count": null,
   "metadata": {},
   "outputs": [],
   "source": []
  }
 ],
 "metadata": {
  "interpreter": {
   "hash": "ac6858c3dbc49267e902ff986705b591b9d7b57befff84fd7d814fe16c4a8e1f"
  },
  "kernelspec": {
   "display_name": "Python 3.8.5 ('ci_covid')",
   "language": "python",
   "name": "python3"
  },
  "language_info": {
   "codemirror_mode": {
    "name": "ipython",
    "version": 3
   },
   "file_extension": ".py",
   "mimetype": "text/x-python",
   "name": "python",
   "nbconvert_exporter": "python",
   "pygments_lexer": "ipython3",
   "version": "3.8.5"
  },
  "orig_nbformat": 4
 },
 "nbformat": 4,
 "nbformat_minor": 2
}
