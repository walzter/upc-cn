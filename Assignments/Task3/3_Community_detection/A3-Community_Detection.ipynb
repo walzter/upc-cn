{
 "cells": [
  {
   "cell_type": "markdown",
   "metadata": {},
   "source": [
    "## A3. Community detection"
   ]
  },
  {
   "cell_type": "markdown",
   "metadata": {},
   "source": [
    "### INFO"
   ]
  },
  {
   "cell_type": "markdown",
   "metadata": {},
   "source": [
    "#### TASKS: \n",
    "\n",
    "\n",
    "[1] Apply at least three different community detection algorithms for the attached undirected networks\n",
    "\n",
    "[2] At least one of the algorithms must be based on the optimization of modularity\n",
    "\n",
    "[3] You must use at least two different programs\n",
    "\n",
    "#### Comparissons: \n",
    "[1] Partition of reference, obtained from external information. In these cases, you have to compare your partitions with them, using at least the following standard measures: Jaccard Index, Normalized Mutual Information (arithmetic normalization), and Normalized Variation of Information.\n",
    "\n",
    "#### DELIVERY\n",
    "[1] a plot with color-coded communities\n",
    "\n",
    "[2] Brief description of the algorithms and the programs used.\n",
    "\n",
    "[3] Selected parameters for each algorithm and/or network, and the scripts used (if any).\n",
    "\n",
    "[4] A table with the comparison measures between your partitions and the reference ones, grouped by network.\n",
    "\n",
    "[5] A table with the modularity values of all the partitions (including the reference ones), grouped by network.\n",
    "\n",
    "[6] The obtained partitions, in Pajek format (*.clu)\n",
    "\n",
    "\n",
    "\n",
    "#### CAVEATS: \n",
    "[1] The position of the nodes must not change for all the partitions of the same network.\n",
    "\n",
    "[2] If the network contains coordinates for the nodes (e.g. airports_UW.net), use them to establish the position of the nodes. Otherwise, use a layout algorithm to distribute the nodes in the plane trying to minimize the number of links crossings (e.g., Kamada-Kawai, ForceAtlas, etc.). Circular layouts must not be used.\n",
    "\n"
   ]
  },
  {
   "cell_type": "markdown",
   "metadata": {},
   "source": [
    "## Community \n",
    "\n",
    "- Groups of densely connected components in various networks. \n",
    "- Most widely used algorithm Girvan-Newman algorithm\n",
    "\n",
    "#### Techniques \n",
    "- **Agglomerative**: start only with the nodes of the original graph. Edges are added in a specific manner, if they have a weight, stronger ones are prioritized over weaker ones. \n",
    "\n",
    "- **Divisive**: Remove edges from the original graph iteratively. Stronger edges are removed before weaker ones. "
   ]
  },
  {
   "cell_type": "markdown",
   "metadata": {},
   "source": [
    "### Imports & Settings"
   ]
  },
  {
   "cell_type": "code",
   "execution_count": null,
   "metadata": {},
   "outputs": [],
   "source": [
    "## get the community module \n",
    "!pip3 install -qq python-louvain"
   ]
  },
  {
   "cell_type": "code",
   "execution_count": null,
   "metadata": {},
   "outputs": [],
   "source": [
    "## autoreload \n",
    "%load_ext autoreload\n",
    "%autoreload 2"
   ]
  },
  {
   "cell_type": "markdown",
   "metadata": {},
   "source": [
    "Description of Python-Louvain, it is the NetworkX's method for community detection. \n",
    "Description of NetworkX: Using different algorithms from them (3)\n"
   ]
  },
  {
   "cell_type": "code",
   "execution_count": null,
   "metadata": {},
   "outputs": [],
   "source": [
    "## import libraries \n",
    "import networkx as nx \n",
    "import matplotlib.pyplot as plt\n",
    "from community import community_louvain"
   ]
  },
  {
   "cell_type": "code",
   "execution_count": null,
   "metadata": {},
   "outputs": [],
   "source": [
    "## helper functions \n",
    "from src.helpers.community import CommunityAlgs\n",
    "from src.helpers.config import paths_dict\n",
    "from src.helpers.helpers import get_file_dict, read_clu,lol2idx,dict_vals_to_list\n",
    "from src.helpers.metrics import (nmi,\n",
    "                                 jaccard_index,\n",
    "                                 rand_index,\n",
    "                                 nvi_from_nmi)"
   ]
  },
  {
   "cell_type": "code",
   "execution_count": null,
   "metadata": {},
   "outputs": [],
   "source": [
    "## Parameters\n",
    "DATA_DIR = './data/'\n",
    "## get the paths of the files \n",
    "MODEL_DATA = paths_dict()\n",
    "## get all the files \n",
    "DATA = get_file_dict(DATA_DIR) # Model : [net, clu]"
   ]
  },
  {
   "cell_type": "code",
   "execution_count": null,
   "metadata": {},
   "outputs": [],
   "source": [
    "## read the first graph and plot the graph and its corresponding partition \n",
    "s = DATA['TOY'][0]\n",
    "net, clu = s\n",
    "print(f\"net: {net}\")"
   ]
  },
  {
   "cell_type": "code",
   "execution_count": null,
   "metadata": {},
   "outputs": [],
   "source": [
    "## load the net and clu files\n",
    "g = nx.read_pajek(net)\n",
    "cl = dict(read_clu(clu))\n",
    "\n",
    "## plotting \n",
    "## set up a figure with: Original, Partition, Partition Method 1, Partition Method 2, .... Partition Method N\n",
    "NUM_PARTITIONS = 4\n",
    "TOTAL_FILES = sum([len(x) for _,x in DATA.items()])\n",
    "\n",
    "## create the figure \n",
    "fig, axs = plt.subplots(1, NUM_PARTITIONS, figsize=(20,5))\n",
    "axs = axs.ravel()\n",
    "\n",
    "## plot the original \n",
    "nx.draw(g, ax=axs[0], node_color='b', edge_color='k', node_size=15, alpha=0.9)\n",
    "\n",
    "## plot the partition\n",
    "nx.draw(g, ax=axs[1], node_color=list(cl.values()), node_size=15, alpha=0.9)\n",
    "\n",
    "\n",
    "## plot the partition method 1: Girvan-Newman\n",
    "ca1 = CommunityAlgs(g, method='girvan_newman', verbosity=False)\n",
    "ca1_comm, ca1_nc = ca1.algorithm\n",
    "nx.draw(g, ax=axs[2], node_color=dict_vals_to_list(ca1_nc[0]), node_size=15, alpha=0.9)\n",
    "\n",
    "\n",
    "## plot the method 2: asyn_fluid\n",
    "ca2 = CommunityAlgs(g, method='asyn_fluid', verbosity=False)\n",
    "ca2_comm, ca2_nc = ca2.algorithm\n",
    "nx.draw(g, ax=axs[3], node_color=dict_vals_to_list(ca2_nc), node_size=15, alpha=0.9)\n",
    "\n",
    "## set the titles \n",
    "axs[0].set_title('Original')\n",
    "axs[1].set_title('Partition')\n",
    "axs[2].set_title('Partition Method 1: Girvan-Newman')\n",
    "axs[3].set_title('Partition Method 2: asyn_fluid')\n",
    "plt.suptitle(f'Toy Example: {net.split(\"/\")[-1]}', fontsize=20, y=1.1)\n",
    "plt.show()"
   ]
  },
  {
   "cell_type": "code",
   "execution_count": null,
   "metadata": {},
   "outputs": [],
   "source": [
    "## This works to plot the different k-communities in a graph \n",
    "from networkx.algorithms.community.centrality import girvan_newman\n",
    "mapper = {name:idx for idx, name in  enumerate(g.nodes())}\n",
    "## apply the algorithm to the graph \n",
    "communities = girvan_newman(g) ## generator object\n",
    "## another approach to get the community\n",
    "import itertools \n",
    "## define the number of communities (tuple)\n",
    "k = 3\n",
    "fig, axs = plt.subplots(1, k, figsize=(20,5))\n",
    "axs = axs.ravel()\n",
    "for idx, comm in enumerate(itertools.islice(communities, k)):\n",
    "    part = tuple(sorted(c) for c in comm)\n",
    "    b = lol2idx(part) ## Converts the list of list into a dictionary of sublist-index \n",
    "    nx.draw(g, node_color=list(b.values()), node_size=15, ax=axs[idx])#,with_labels=True)\n",
    "    axs[idx].set_title(f\"Partition k={idx+1}\")\n",
    "plt.tight_layout()"
   ]
  },
  {
   "cell_type": "markdown",
   "metadata": {},
   "source": [
    "#### Code"
   ]
  },
  {
   "cell_type": "markdown",
   "metadata": {},
   "source": [
    "#### Community Detection Algorithm 1: Girvan-Newman algorithm"
   ]
  },
  {
   "cell_type": "markdown",
   "metadata": {},
   "source": [
    "https://networkx.org/documentation/stable/reference/algorithms/generated/networkx.algorithms.community.centrality.girvan_newman.html#networkx.algorithms.community.centrality.girvan_newman\n",
    "\n",
    "- Divisive method, progressively removes edges from the original graph. \n",
    "- Removes the \"most-valuable\" edge. \n",
    "    - Highest betweenness centrality.\n",
    "        - Highest number of shortest paths between nodes. \n",
    "        - definition is unclear but something as: \n",
    "            Number of shortest paths through V or E / Total shortest paths\n",
    "- Result can be shown as a dendrogram. "
   ]
  },
  {
   "cell_type": "code",
   "execution_count": null,
   "metadata": {},
   "outputs": [],
   "source": [
    "## load a sample graph from the FILES\n",
    "sample = FILES['TOY'][4]"
   ]
  },
  {
   "cell_type": "code",
   "execution_count": null,
   "metadata": {},
   "outputs": [],
   "source": [
    "## apply the algorithm to the graph \n",
    "communities = girvan_newman(g) ## generator object \n",
    "## get the nodes belonging to the first community\n",
    "node_groups = [com for com in next(communities)]\n",
    "## loop over the nodes in the original graph \n",
    "## if they are the original assign a color to them\n",
    "c1 = 'red'\n",
    "c2 = 'blue'\n",
    "color_map = [c2 if node in node_groups[0] else c1  for node in g.nodes()]\n",
    "## draw it again \n",
    "nx.draw(g, node_color=color_map, with_labels=True)\n",
    "plt.show()"
   ]
  },
  {
   "cell_type": "code",
   "execution_count": null,
   "metadata": {},
   "outputs": [],
   "source": [
    "import networkx.algorithms.community as nx_comm\n",
    "nx_comm.modularity(g, node_groups)"
   ]
  },
  {
   "cell_type": "code",
   "execution_count": null,
   "metadata": {},
   "outputs": [],
   "source": [
    "## another approach to get the community\n",
    "import itertools \n",
    "## define the number of communities (tuple)\n",
    "k = 5\n",
    "for comm in itertools.islice(communities, k):\n",
    "    print(tuple(sorted(c) for c in comm))"
   ]
  },
  {
   "cell_type": "code",
   "execution_count": null,
   "metadata": {},
   "outputs": [],
   "source": [
    "## using another package \n",
    "from community import community_louvain\n",
    "import community\n",
    "import matplotlib.cm as cm\n",
    "\n",
    "# compute the best partition\n",
    "partition = community_louvain.best_partition(g)\n",
    "print(partition)\n",
    "# draw the graph\n",
    "pos = nx.spring_layout(g)\n",
    "# color the nodes according to their partition\n",
    "cmap = cm.get_cmap('tab10', max(partition.values()) + 1)\n",
    "## draw the nodes\n",
    "nx.draw_networkx_nodes(g, pos, partition.keys(), node_size=40,\n",
    "                       cmap=cmap, node_color=list(partition.values()))\n",
    "## draw the edges \n",
    "nx.draw_networkx_edges(g, pos, alpha=0.5)\n",
    "plt.show()\n"
   ]
  },
  {
   "cell_type": "code",
   "execution_count": null,
   "metadata": {},
   "outputs": [],
   "source": [
    "## given two sets of partitions or communities, calculate the metrics\n",
    "\n",
    "## community 1 \n",
    "l1 = sorted(partition.values(),reverse=False)\n",
    "## community 2 \n",
    "l2 = [1,1,1,1,2,2,2,2]\n",
    "## normalized mutual information\n",
    "_nmi = nmi(l1,l2)\n",
    "## jaccard index \n",
    "jac_idx = jaccard_index(l1,l2)\n",
    "## randindex \n",
    "rand_id = rand_index(l1,l2)\n",
    "## nvi = normalized variation of information\n",
    "_nvi = nvi_from_nmi(l1,l2,len(l1))\n",
    "\n",
    "## feedback \n",
    "print(f\"NMI: {_nmi:.2f}\")\n",
    "print(f\"Jaccard index: {jac_idx:.2f}\")\n",
    "print(f\"Rand index: {rand_id:.2f}\")\n",
    "print(f\"NVI: {_nvi:.2f}\")\n",
    "tracker_metrics = {'nmi':_nmi,\n",
    "                   'jaccard_index':jac_idx,\n",
    "                   'rand_index':rand_id,\n",
    "                   'nvi':_nvi}"
   ]
  },
  {
   "cell_type": "code",
   "execution_count": null,
   "metadata": {},
   "outputs": [],
   "source": [
    "partition = community.best_partition(g)\n",
    "pos = nx.spring_layout(g)\n",
    "nx.draw_networkx_nodes(g, pos, node_color=list(partition.values))\n",
    "nx.draw_networkx_edges(g,pos,alpha=0.3)"
   ]
  },
  {
   "cell_type": "code",
   "execution_count": null,
   "metadata": {},
   "outputs": [],
   "source": []
  },
  {
   "cell_type": "markdown",
   "metadata": {},
   "source": [
    "#### Community Detection Algorithm 2: Fluid Communities algorithm"
   ]
  },
  {
   "cell_type": "markdown",
   "metadata": {},
   "source": [
    "https://networkx.org/documentation/stable/reference/algorithms/generated/networkx.algorithms.community.centrality.girvan_newman.html#networkx.algorithms.community.centrality.girvan_newman\n",
    "\n",
    "\n",
    "Very nice graphs \n",
    "https://arxiv.org/pdf/1703.09307.pdf\n",
    "\n",
    "- Based on \"fluids interacting with each other\" \n",
    "    - expanding and pushing each other. \n",
    "\n",
    "Mechanics: \n",
    "- Initial k communities initialized on a random vertex. \n",
    "- Iterate over all vertices in random order. \n",
    "- **Vertex move from one place to the other, different densities, shifts**\n"
   ]
  },
  {
   "cell_type": "code",
   "execution_count": null,
   "metadata": {},
   "outputs": [],
   "source": [
    "## import \n",
    "from networkx.algorithms.community import asyn_fluid\n",
    "## set parameters \n",
    "## K is the number of communities\n",
    "K = 6\n",
    "## max_iter is the maximum number of iterations\n",
    "max_iter = 100\n",
    "## assign fluids \n",
    "fluids = asyn_fluid.asyn_fluidc(G=g, k=K, max_iter=max_iter)\n",
    "## iterate over the fluids and print the communities\n",
    "cmms = [fluid for fluid in fluids]\n",
    "\n",
    "\n",
    "\n",
    "fig, axs = plt.subplots(3,2, figsize=(20,10))\n",
    "axs = axs.ravel()\n",
    "## assign a color to each community\n",
    "for idx, i in enumerate(cmms):\n",
    "    color_map = [c2 if node in cmms[idx] else c1  for node in g.nodes()]     \n",
    "    ## drawing the graph\n",
    "    nx.draw(g, node_color=color_map, with_labels=True, ax=axs[idx])"
   ]
  },
  {
   "cell_type": "code",
   "execution_count": null,
   "metadata": {},
   "outputs": [],
   "source": []
  },
  {
   "cell_type": "code",
   "execution_count": null,
   "metadata": {},
   "outputs": [],
   "source": [
    "fig, axs = plt.subplots(4,2, figsize=(20,10))\n",
    "axs = axs.ravel()\n",
    "for idx, K in enumerate(range(1,len(g.edges()),1)):\n",
    "    fluids = asyn_fluid.asyn_fluidc(G=g, k=K, max_iter=max_iter)\n",
    "    l = [fluid for fluid in fluids]\n",
    "    cy = lol2idx(l)\n",
    "    cd = dict_vals_to_list(cy)\n",
    "    nx.draw(g, node_color=cd, with_labels=True, ax=axs[idx])\n",
    "plt.tight_layout()"
   ]
  },
  {
   "cell_type": "code",
   "execution_count": null,
   "metadata": {},
   "outputs": [],
   "source": []
  },
  {
   "cell_type": "code",
   "execution_count": null,
   "metadata": {},
   "outputs": [],
   "source": []
  },
  {
   "cell_type": "code",
   "execution_count": null,
   "metadata": {},
   "outputs": [],
   "source": []
  },
  {
   "cell_type": "markdown",
   "metadata": {},
   "source": [
    "#### Community Detection Algorithm 3: Label Propagation algorithm"
   ]
  },
  {
   "cell_type": "markdown",
   "metadata": {},
   "source": []
  },
  {
   "cell_type": "code",
   "execution_count": null,
   "metadata": {},
   "outputs": [],
   "source": []
  },
  {
   "cell_type": "code",
   "execution_count": null,
   "metadata": {},
   "outputs": [],
   "source": []
  },
  {
   "cell_type": "markdown",
   "metadata": {},
   "source": [
    "#### Community Detection Algorithm 4: Clique Percolation algorithm"
   ]
  },
  {
   "cell_type": "code",
   "execution_count": null,
   "metadata": {},
   "outputs": [],
   "source": []
  },
  {
   "cell_type": "code",
   "execution_count": null,
   "metadata": {},
   "outputs": [],
   "source": []
  },
  {
   "cell_type": "code",
   "execution_count": null,
   "metadata": {},
   "outputs": [],
   "source": []
  },
  {
   "cell_type": "code",
   "execution_count": null,
   "metadata": {},
   "outputs": [],
   "source": []
  },
  {
   "cell_type": "markdown",
   "metadata": {},
   "source": [
    "#### Community Detection Algorithm 5: Kernighan-Lin algorithm"
   ]
  },
  {
   "cell_type": "markdown",
   "metadata": {},
   "source": []
  }
 ],
 "metadata": {
  "interpreter": {
   "hash": "ac6858c3dbc49267e902ff986705b591b9d7b57befff84fd7d814fe16c4a8e1f"
  },
  "kernelspec": {
   "display_name": "Python 3.8.5",
   "language": "python",
   "name": "python3"
  },
  "language_info": {
   "codemirror_mode": {
    "name": "ipython",
    "version": 3
   },
   "file_extension": ".py",
   "mimetype": "text/x-python",
   "name": "python",
   "nbconvert_exporter": "python",
   "pygments_lexer": "ipython3",
   "version": "3.8.5"
  },
  "orig_nbformat": 4
 },
 "nbformat": 4,
 "nbformat_minor": 2
}
