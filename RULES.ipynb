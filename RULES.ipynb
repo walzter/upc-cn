{
 "cells": [
  {
   "cell_type": "markdown",
   "metadata": {},
   "source": [
    "RULES is a simple algorithm for extractinga set of classificationrulestbr a collectionof objectsbelonging to a given set of classes.An object must be described in terms of a fixed set of attributes,eachwith its own set of possible values. For example \"Weather\" and \"Temperature\"might beattributeswith setsof possible values{rainy, sunny,snowy} and {low, average,high}, respectively."
   ]
  },
  {
   "cell_type": "markdown",
   "metadata": {},
   "source": [
    "In RULES, an attribute-valuepair constitutesa condition.If thenumberofattributesisna,arulemay containbetweenoneand naconditions,eachof which mustbeadifferentattribute-valuepair. Only thecon- j u n c t i o n o f c o n d i t i o n s i s p e r m i t t e d i n a r u l e , a n d t h e r e - foretheattributesmustall bedifferentif therulecom- prisesmorethanonecondition.Theattributesandthe valuesassociatedwith them in a collection of objects form an array of attributesand values.The total num- ber of elementsof the array is the total number of all possiblevalues.For example,if therearefour attributes with 3,4,2,and5values,respectively,thetotalnumber of elementsis 14.\n",
    "\n",
    "The rule-formingproceduremay requireat most na iterations.The first iterationproducesruleswith one condition,andtheseconditerationresultsin ruleswith two conditions,etc.In thefirst iteration,each elemen"
   ]
  },
  {
   "cell_type": "code",
   "execution_count": null,
   "metadata": {},
   "outputs": [],
   "source": [
    "## Building the RULES: A simple rule extractiong system \n",
    "\"\"\"\n",
    "The algorithm starts by setting the number of condtions, n_c to 0. \n",
    "It then goes through the number of conditions, n_c, and adds a condition to the rule.\n",
    "If n_c is greater than the number of attributes n_a, the algorithm ends. \n",
    "If n_c is less than the number of attributes n_a, the algorithm adds a condition to the rule.\n",
    "Find all values containedin unclassified examples \n",
    "find objects which are combinations of n_c values \n",
    "If they belong to a single class, add the class to the rule, and check for irrelevant conditions. \n",
    "If all examples are classified using extracted rules, END, else go to the next condition.\n",
    "\"\"\"\n",
    "class RULES: \n",
    "    \"\"\"\n",
    "    A simple RuLe Extraction System.\n",
    "    \n",
    "    \"\"\"\n",
    "    def __init__(self, n_a:int, n_c:int,"
   ]
  }
 ],
 "metadata": {
  "language_info": {
   "name": "python"
  },
  "orig_nbformat": 4
 },
 "nbformat": 4,
 "nbformat_minor": 2
}
